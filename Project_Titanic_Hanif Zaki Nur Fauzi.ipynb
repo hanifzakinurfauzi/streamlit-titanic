{
 "cells": [
  {
   "cell_type": "markdown",
   "id": "cf32d87d-8757-4d8c-9b38-0e860d60917e",
   "metadata": {},
   "source": [
    "# ***Project Titanic***"
   ]
  },
  {
   "cell_type": "markdown",
   "id": "b1c9b0d1-aef4-4f56-889a-f355580aefff",
   "metadata": {},
   "source": [
    "# **Business Understanding**"
   ]
  },
  {
   "cell_type": "markdown",
   "id": "2e5da931-d769-44d4-858e-623e48dc800b",
   "metadata": {},
   "source": [
    "## Introduction"
   ]
  },
  {
   "cell_type": "markdown",
   "id": "9b8f6261-f526-4dba-ad84-0b5c1270efb8",
   "metadata": {},
   "source": [
    "Tenggelamnya RMS Titanic terjadi pada dini hari tanggal 15 April 1912 di Samudra Atlantik Utara, empat hari setelah pelayaran perdananya dari Southampton menuju New York City. Titanic merupakan kapal samudra terbesar yang beroperasi pada masa itu, yang mengangkut kurang lebih 2.224 penumpang ketika menabrak gunung es kira-kira pukul 23.40 (waktu kapal) pada hari Minggu, 14 April 1912. Kapal tersebut tenggelam dua jam empat puluh menit kemudian pada pukul 02.20 waktu kapal (05:18 GMT) hari Senin, 15 April, mengakibatkan lebih dari 1.500 penumpang dan awak tewas, menjadikannya salah satu bencana maritim masa damai paling mematikan dalam sejarah.\n",
    "\n",
    "Titanic menerima enam peringatan bahaya es laut pada tanggal 14 April, tetapi sedang melaju dengan kecepatan 22 knot (41 km/h) ketika pengintai melihat keberadaan gunung es. Kapal tidak bisa berbelok dengan cukup cepat dan menabrak gunung es, yang melekukkan sisi kanan kapal dan melubangi enam dari enam belas kompartemennya. Titanic dirancang untuk tetap mengapung jika empat kompartemennya bocor, dan para awak segera menyadari bahwa kapal akan tenggelam. Mereka menggunakan suara mara bahaya dan pesan radio nirkabel untuk meminta bantuan selagi penumpang diungsikan ke sekoci.\n",
    "\n",
    "Resource: https://id.wikipedia.org/wiki/Tenggelamnya_RMS_Titanic#Referensi"
   ]
  },
  {
   "cell_type": "markdown",
   "id": "3d408bb5-912c-4647-a5f6-a0704ac6545e",
   "metadata": {},
   "source": [
    "## Problem Statement"
   ]
  },
  {
   "cell_type": "markdown",
   "id": "d601e741-cf19-4977-9617-f84853ca2bf4",
   "metadata": {},
   "source": [
    "Melalui analisis dataset Titanic, tujuan penelitian ini adalah untuk menentukan faktor-faktor yang paling signifikan dalam mempengaruhi tingkat kelangsungan hidup penumpang. Analisis akan mencakup variabel seperti kelas tiket, jenis kelamin, usia, dan jumlah saudara kandung atau pasangan. Hasil analisis ini diharapkan dapat memberikan wawasan yang mendalam tentang karakteristik penumpang yang memiliki tingkat kelangsungan hidup lebih tinggi, yang pada gilirannya dapat membantu dalam pengembangan kebijakan keselamatan kapal atau rekomendasi pelayaran di masa depan."
   ]
  },
  {
   "cell_type": "markdown",
   "id": "7f463fca-cd68-471f-9356-8fd1046518ca",
   "metadata": {},
   "source": [
    "## Metrics Evaluation"
   ]
  },
  {
   "cell_type": "markdown",
   "id": "bf8a613e-b563-49fd-864e-dda5fcd9a4ff",
   "metadata": {},
   "source": [
    "1. **Precision**: Karena kita ingin meminimalkan jumlah prediksi yang salah tentang orang yang tidak selamat. Artinya kita ingin mengurangi prediksi salah orang yang tidka selamat tapi kenyataannya selamat.\n",
    "2. **AUC-ROC**:  mengukur kualitas keseluruhan model untuk memisahkan kelas positif dan negatif. Kurva ROC (Receiver Operating Characteristic) memplot nilai True Positive Rate (Recall) terhadap False Positive Rate pada berbagai threshold. AUC-ROC memberikan nilai keseluruhan kinerja model independen dari threshold."
   ]
  },
  {
   "cell_type": "markdown",
   "id": "088188ae-6b1a-4da8-8507-c8d51e21db71",
   "metadata": {},
   "source": [
    "## Variable Description"
   ]
  },
  {
   "cell_type": "markdown",
   "id": "7c598d3e-3bb4-4c53-8467-884ee7381efb",
   "metadata": {},
   "source": [
    "**PassengerId**: unique id number to each passenger <br>\n",
    "**Survived**: passenger survive(1) or died(0) <br>\n",
    "**Pclass**: passenger class <br>\n",
    "**Name**: name <br>\n",
    "**Sex**: gender of passenger <br>\n",
    "**Age**: age of passenger <br>\n",
    "**SibSp**: number of siblings/spouses <br>\n",
    "**Parch**: number of parents/children <br>\n",
    "**Ticket**: ticket number <br>\n",
    "**Fare**: amount of money spent on ticket <br>\n",
    "**Cabin**: cabin category <br>\n",
    "**Embarked**: port where passenger embarked (C = Cherbourg, Q = Queenstown, S = Southampton) <br>"
   ]
  },
  {
   "cell_type": "markdown",
   "id": "53bea478-a9f4-44c1-8900-1a874deacff6",
   "metadata": {},
   "source": [
    "# **Data Understanding**"
   ]
  },
  {
   "cell_type": "markdown",
   "id": "63919b0e-b8f7-468a-a580-6ba2aea80d1a",
   "metadata": {},
   "source": [
    "## Data Exploration"
   ]
  },
  {
   "cell_type": "code",
   "execution_count": 1,
   "id": "ca4a2f39-d83d-4ede-a4af-e52aa6a01bf2",
   "metadata": {},
   "outputs": [],
   "source": [
    "# import library\n",
    "import pandas as pd\n",
    "import numpy as np\n",
    "import matplotlib.pyplot as plt\n",
    "import seaborn as sns"
   ]
  },
  {
   "cell_type": "code",
   "execution_count": 2,
   "id": "c458278a-60f0-4360-9cfe-6e6aa6954529",
   "metadata": {},
   "outputs": [
    {
     "data": {
      "text/html": [
       "<div>\n",
       "<style scoped>\n",
       "    .dataframe tbody tr th:only-of-type {\n",
       "        vertical-align: middle;\n",
       "    }\n",
       "\n",
       "    .dataframe tbody tr th {\n",
       "        vertical-align: top;\n",
       "    }\n",
       "\n",
       "    .dataframe thead th {\n",
       "        text-align: right;\n",
       "    }\n",
       "</style>\n",
       "<table border=\"1\" class=\"dataframe\">\n",
       "  <thead>\n",
       "    <tr style=\"text-align: right;\">\n",
       "      <th></th>\n",
       "      <th>PassengerId</th>\n",
       "      <th>Survived</th>\n",
       "      <th>Pclass</th>\n",
       "      <th>Name</th>\n",
       "      <th>Sex</th>\n",
       "      <th>Age</th>\n",
       "      <th>SibSp</th>\n",
       "      <th>Parch</th>\n",
       "      <th>Ticket</th>\n",
       "      <th>Fare</th>\n",
       "      <th>Cabin</th>\n",
       "      <th>Embarked</th>\n",
       "    </tr>\n",
       "  </thead>\n",
       "  <tbody>\n",
       "    <tr>\n",
       "      <th>0</th>\n",
       "      <td>1</td>\n",
       "      <td>0</td>\n",
       "      <td>3</td>\n",
       "      <td>Braund, Mr. Owen Harris</td>\n",
       "      <td>male</td>\n",
       "      <td>22.0</td>\n",
       "      <td>1</td>\n",
       "      <td>0</td>\n",
       "      <td>A/5 21171</td>\n",
       "      <td>7.2500</td>\n",
       "      <td>NaN</td>\n",
       "      <td>S</td>\n",
       "    </tr>\n",
       "    <tr>\n",
       "      <th>1</th>\n",
       "      <td>2</td>\n",
       "      <td>1</td>\n",
       "      <td>1</td>\n",
       "      <td>Cumings, Mrs. John Bradley (Florence Briggs Th...</td>\n",
       "      <td>female</td>\n",
       "      <td>38.0</td>\n",
       "      <td>1</td>\n",
       "      <td>0</td>\n",
       "      <td>PC 17599</td>\n",
       "      <td>71.2833</td>\n",
       "      <td>C85</td>\n",
       "      <td>C</td>\n",
       "    </tr>\n",
       "    <tr>\n",
       "      <th>2</th>\n",
       "      <td>3</td>\n",
       "      <td>1</td>\n",
       "      <td>3</td>\n",
       "      <td>Heikkinen, Miss. Laina</td>\n",
       "      <td>female</td>\n",
       "      <td>26.0</td>\n",
       "      <td>0</td>\n",
       "      <td>0</td>\n",
       "      <td>STON/O2. 3101282</td>\n",
       "      <td>7.9250</td>\n",
       "      <td>NaN</td>\n",
       "      <td>S</td>\n",
       "    </tr>\n",
       "    <tr>\n",
       "      <th>3</th>\n",
       "      <td>4</td>\n",
       "      <td>1</td>\n",
       "      <td>1</td>\n",
       "      <td>Futrelle, Mrs. Jacques Heath (Lily May Peel)</td>\n",
       "      <td>female</td>\n",
       "      <td>35.0</td>\n",
       "      <td>1</td>\n",
       "      <td>0</td>\n",
       "      <td>113803</td>\n",
       "      <td>53.1000</td>\n",
       "      <td>C123</td>\n",
       "      <td>S</td>\n",
       "    </tr>\n",
       "    <tr>\n",
       "      <th>4</th>\n",
       "      <td>5</td>\n",
       "      <td>0</td>\n",
       "      <td>3</td>\n",
       "      <td>Allen, Mr. William Henry</td>\n",
       "      <td>male</td>\n",
       "      <td>35.0</td>\n",
       "      <td>0</td>\n",
       "      <td>0</td>\n",
       "      <td>373450</td>\n",
       "      <td>8.0500</td>\n",
       "      <td>NaN</td>\n",
       "      <td>S</td>\n",
       "    </tr>\n",
       "  </tbody>\n",
       "</table>\n",
       "</div>"
      ],
      "text/plain": [
       "   PassengerId  Survived  Pclass  \\\n",
       "0            1         0       3   \n",
       "1            2         1       1   \n",
       "2            3         1       3   \n",
       "3            4         1       1   \n",
       "4            5         0       3   \n",
       "\n",
       "                                                Name     Sex   Age  SibSp  \\\n",
       "0                            Braund, Mr. Owen Harris    male  22.0      1   \n",
       "1  Cumings, Mrs. John Bradley (Florence Briggs Th...  female  38.0      1   \n",
       "2                             Heikkinen, Miss. Laina  female  26.0      0   \n",
       "3       Futrelle, Mrs. Jacques Heath (Lily May Peel)  female  35.0      1   \n",
       "4                           Allen, Mr. William Henry    male  35.0      0   \n",
       "\n",
       "   Parch            Ticket     Fare Cabin Embarked  \n",
       "0      0         A/5 21171   7.2500   NaN        S  \n",
       "1      0          PC 17599  71.2833   C85        C  \n",
       "2      0  STON/O2. 3101282   7.9250   NaN        S  \n",
       "3      0            113803  53.1000  C123        S  \n",
       "4      0            373450   8.0500   NaN        S  "
      ]
     },
     "execution_count": 2,
     "metadata": {},
     "output_type": "execute_result"
    }
   ],
   "source": [
    "# load dataset\n",
    "data = pd.read_csv('F:/Qarir Generator/Project Data Analysis/titanic.csv')\n",
    "data.head()"
   ]
  },
  {
   "cell_type": "code",
   "execution_count": 3,
   "id": "55114a01-9449-4f7b-982a-09c109c03fb9",
   "metadata": {},
   "outputs": [
    {
     "name": "stdout",
     "output_type": "stream",
     "text": [
      "<class 'pandas.core.frame.DataFrame'>\n",
      "RangeIndex: 891 entries, 0 to 890\n",
      "Data columns (total 12 columns):\n",
      " #   Column       Non-Null Count  Dtype  \n",
      "---  ------       --------------  -----  \n",
      " 0   PassengerId  891 non-null    int64  \n",
      " 1   Survived     891 non-null    int64  \n",
      " 2   Pclass       891 non-null    int64  \n",
      " 3   Name         891 non-null    object \n",
      " 4   Sex          891 non-null    object \n",
      " 5   Age          714 non-null    float64\n",
      " 6   SibSp        891 non-null    int64  \n",
      " 7   Parch        891 non-null    int64  \n",
      " 8   Ticket       891 non-null    object \n",
      " 9   Fare         891 non-null    float64\n",
      " 10  Cabin        204 non-null    object \n",
      " 11  Embarked     889 non-null    object \n",
      "dtypes: float64(2), int64(5), object(5)\n",
      "memory usage: 83.7+ KB\n"
     ]
    }
   ],
   "source": [
    "# quick look\n",
    "data.info()"
   ]
  },
  {
   "cell_type": "markdown",
   "id": "d42028c1-22cd-4f0a-b0fb-37cfdb7b8464",
   "metadata": {},
   "source": [
    "**Dari informasi diatas bahwa data yang dimiliki mempunyai 12 kolom dan 891 baris. Dimana kolom \"Age\", \"Cabin\", \"Embarked\" terdapat missing value. Sehingga perlu dihandling sebelum dilakukan modeling. Selain itu, untuk type data setiap kolom perlunya dilakukan tindak lanjut lagi apakah sudah sesuai atau tidak.**"
   ]
  },
  {
   "cell_type": "code",
   "execution_count": 4,
   "id": "f2917ed8-10e9-4d2e-a6bb-baeaa89fe883",
   "metadata": {},
   "outputs": [
    {
     "data": {
      "text/html": [
       "<div>\n",
       "<style scoped>\n",
       "    .dataframe tbody tr th:only-of-type {\n",
       "        vertical-align: middle;\n",
       "    }\n",
       "\n",
       "    .dataframe tbody tr th {\n",
       "        vertical-align: top;\n",
       "    }\n",
       "\n",
       "    .dataframe thead th {\n",
       "        text-align: right;\n",
       "    }\n",
       "</style>\n",
       "<table border=\"1\" class=\"dataframe\">\n",
       "  <thead>\n",
       "    <tr style=\"text-align: right;\">\n",
       "      <th></th>\n",
       "      <th>Name</th>\n",
       "      <th>Sex</th>\n",
       "      <th>Ticket</th>\n",
       "      <th>Cabin</th>\n",
       "      <th>Embarked</th>\n",
       "    </tr>\n",
       "  </thead>\n",
       "  <tbody>\n",
       "    <tr>\n",
       "      <th>count</th>\n",
       "      <td>891</td>\n",
       "      <td>891</td>\n",
       "      <td>891</td>\n",
       "      <td>204</td>\n",
       "      <td>889</td>\n",
       "    </tr>\n",
       "    <tr>\n",
       "      <th>unique</th>\n",
       "      <td>891</td>\n",
       "      <td>2</td>\n",
       "      <td>681</td>\n",
       "      <td>147</td>\n",
       "      <td>3</td>\n",
       "    </tr>\n",
       "    <tr>\n",
       "      <th>top</th>\n",
       "      <td>Braund, Mr. Owen Harris</td>\n",
       "      <td>male</td>\n",
       "      <td>347082</td>\n",
       "      <td>B96 B98</td>\n",
       "      <td>S</td>\n",
       "    </tr>\n",
       "    <tr>\n",
       "      <th>freq</th>\n",
       "      <td>1</td>\n",
       "      <td>577</td>\n",
       "      <td>7</td>\n",
       "      <td>4</td>\n",
       "      <td>644</td>\n",
       "    </tr>\n",
       "  </tbody>\n",
       "</table>\n",
       "</div>"
      ],
      "text/plain": [
       "                           Name   Sex  Ticket    Cabin Embarked\n",
       "count                       891   891     891      204      889\n",
       "unique                      891     2     681      147        3\n",
       "top     Braund, Mr. Owen Harris  male  347082  B96 B98        S\n",
       "freq                          1   577       7        4      644"
      ]
     },
     "execution_count": 4,
     "metadata": {},
     "output_type": "execute_result"
    }
   ],
   "source": [
    "# statistik deskriptif kolom kategorik\n",
    "data.describe(include='object')"
   ]
  },
  {
   "cell_type": "markdown",
   "id": "169bb1da-ee95-4555-83c7-2c41d81ecb97",
   "metadata": {},
   "source": [
    "**Dari hasil diatas kami mendapat informasi bahwa kolom \"Name\" semua value nya unik tidak ada duplikat. Kolom \"Sex\" memiliki 2 nilai unik dengan top nya adalah male. Kolom \"Embarked\" memilki 3 nilai unik dengan topnya adalah S.**"
   ]
  },
  {
   "cell_type": "code",
   "execution_count": 5,
   "id": "4e3b619b-338e-4370-8117-12be5399a4c2",
   "metadata": {},
   "outputs": [
    {
     "data": {
      "text/html": [
       "<div>\n",
       "<style scoped>\n",
       "    .dataframe tbody tr th:only-of-type {\n",
       "        vertical-align: middle;\n",
       "    }\n",
       "\n",
       "    .dataframe tbody tr th {\n",
       "        vertical-align: top;\n",
       "    }\n",
       "\n",
       "    .dataframe thead th {\n",
       "        text-align: right;\n",
       "    }\n",
       "</style>\n",
       "<table border=\"1\" class=\"dataframe\">\n",
       "  <thead>\n",
       "    <tr style=\"text-align: right;\">\n",
       "      <th></th>\n",
       "      <th>PassengerId</th>\n",
       "      <th>Survived</th>\n",
       "      <th>Pclass</th>\n",
       "      <th>Age</th>\n",
       "      <th>SibSp</th>\n",
       "      <th>Parch</th>\n",
       "      <th>Fare</th>\n",
       "    </tr>\n",
       "  </thead>\n",
       "  <tbody>\n",
       "    <tr>\n",
       "      <th>count</th>\n",
       "      <td>891.000000</td>\n",
       "      <td>891.000000</td>\n",
       "      <td>891.000000</td>\n",
       "      <td>714.000000</td>\n",
       "      <td>891.000000</td>\n",
       "      <td>891.000000</td>\n",
       "      <td>891.000000</td>\n",
       "    </tr>\n",
       "    <tr>\n",
       "      <th>mean</th>\n",
       "      <td>446.000000</td>\n",
       "      <td>0.383838</td>\n",
       "      <td>2.308642</td>\n",
       "      <td>29.699118</td>\n",
       "      <td>0.523008</td>\n",
       "      <td>0.381594</td>\n",
       "      <td>32.204208</td>\n",
       "    </tr>\n",
       "    <tr>\n",
       "      <th>std</th>\n",
       "      <td>257.353842</td>\n",
       "      <td>0.486592</td>\n",
       "      <td>0.836071</td>\n",
       "      <td>14.526497</td>\n",
       "      <td>1.102743</td>\n",
       "      <td>0.806057</td>\n",
       "      <td>49.693429</td>\n",
       "    </tr>\n",
       "    <tr>\n",
       "      <th>min</th>\n",
       "      <td>1.000000</td>\n",
       "      <td>0.000000</td>\n",
       "      <td>1.000000</td>\n",
       "      <td>0.420000</td>\n",
       "      <td>0.000000</td>\n",
       "      <td>0.000000</td>\n",
       "      <td>0.000000</td>\n",
       "    </tr>\n",
       "    <tr>\n",
       "      <th>25%</th>\n",
       "      <td>223.500000</td>\n",
       "      <td>0.000000</td>\n",
       "      <td>2.000000</td>\n",
       "      <td>20.125000</td>\n",
       "      <td>0.000000</td>\n",
       "      <td>0.000000</td>\n",
       "      <td>7.910400</td>\n",
       "    </tr>\n",
       "    <tr>\n",
       "      <th>50%</th>\n",
       "      <td>446.000000</td>\n",
       "      <td>0.000000</td>\n",
       "      <td>3.000000</td>\n",
       "      <td>28.000000</td>\n",
       "      <td>0.000000</td>\n",
       "      <td>0.000000</td>\n",
       "      <td>14.454200</td>\n",
       "    </tr>\n",
       "    <tr>\n",
       "      <th>75%</th>\n",
       "      <td>668.500000</td>\n",
       "      <td>1.000000</td>\n",
       "      <td>3.000000</td>\n",
       "      <td>38.000000</td>\n",
       "      <td>1.000000</td>\n",
       "      <td>0.000000</td>\n",
       "      <td>31.000000</td>\n",
       "    </tr>\n",
       "    <tr>\n",
       "      <th>max</th>\n",
       "      <td>891.000000</td>\n",
       "      <td>1.000000</td>\n",
       "      <td>3.000000</td>\n",
       "      <td>80.000000</td>\n",
       "      <td>8.000000</td>\n",
       "      <td>6.000000</td>\n",
       "      <td>512.329200</td>\n",
       "    </tr>\n",
       "  </tbody>\n",
       "</table>\n",
       "</div>"
      ],
      "text/plain": [
       "       PassengerId    Survived      Pclass         Age       SibSp  \\\n",
       "count   891.000000  891.000000  891.000000  714.000000  891.000000   \n",
       "mean    446.000000    0.383838    2.308642   29.699118    0.523008   \n",
       "std     257.353842    0.486592    0.836071   14.526497    1.102743   \n",
       "min       1.000000    0.000000    1.000000    0.420000    0.000000   \n",
       "25%     223.500000    0.000000    2.000000   20.125000    0.000000   \n",
       "50%     446.000000    0.000000    3.000000   28.000000    0.000000   \n",
       "75%     668.500000    1.000000    3.000000   38.000000    1.000000   \n",
       "max     891.000000    1.000000    3.000000   80.000000    8.000000   \n",
       "\n",
       "            Parch        Fare  \n",
       "count  891.000000  891.000000  \n",
       "mean     0.381594   32.204208  \n",
       "std      0.806057   49.693429  \n",
       "min      0.000000    0.000000  \n",
       "25%      0.000000    7.910400  \n",
       "50%      0.000000   14.454200  \n",
       "75%      0.000000   31.000000  \n",
       "max      6.000000  512.329200  "
      ]
     },
     "execution_count": 5,
     "metadata": {},
     "output_type": "execute_result"
    }
   ],
   "source": [
    "# statistik deskriptif kolom kategorik\n",
    "data.describe(exclude='object')"
   ]
  },
  {
   "cell_type": "markdown",
   "id": "faa19c39-6a01-4fc1-8148-f84ba823262d",
   "metadata": {},
   "source": [
    "**Dari hasil diatas kami mendapat informasi bahwa kolom \"Age\" penumpang termuda berumur 20 tahun dan tertua 80 tahun, dan rata-rata 30 tahun dengan nilai median 28 tahun. Kolom \"Fare\" penumpang kapal membayar tiket dengan harga 0 minimal dan maksimal 512.33, dan rata-rata penumpang mengeluarkan biaya tiket sebesar 32.20 dengan nilai median 14.45.**"
   ]
  },
  {
   "cell_type": "code",
   "execution_count": 6,
   "id": "9b3aebce-f0e7-4204-bfdf-9cdb9018d4c2",
   "metadata": {},
   "outputs": [
    {
     "name": "stdout",
     "output_type": "stream",
     "text": [
      "Braund, Mr. Owen Harris                     0.112233\n",
      "Boulos, Mr. Hanna                           0.112233\n",
      "Frolicher-Stehli, Mr. Maxmillian            0.112233\n",
      "Gilinski, Mr. Eliezer                       0.112233\n",
      "Murdlin, Mr. Joseph                         0.112233\n",
      "                                              ...   \n",
      "Kelly, Miss. Anna Katherine \"Annie Kate\"    0.112233\n",
      "McCoy, Mr. Bernard                          0.112233\n",
      "Johnson, Mr. William Cahoone Jr             0.112233\n",
      "Keane, Miss. Nora A                         0.112233\n",
      "Dooley, Mr. Patrick                         0.112233\n",
      "Name: Name, Length: 891, dtype: float64\n",
      "\n",
      "\n",
      "male      64.758698\n",
      "female    35.241302\n",
      "Name: Sex, dtype: float64\n",
      "\n",
      "\n",
      "347082      0.785634\n",
      "CA. 2343    0.785634\n",
      "1601        0.785634\n",
      "3101295     0.673401\n",
      "CA 2144     0.673401\n",
      "              ...   \n",
      "9234        0.112233\n",
      "19988       0.112233\n",
      "2693        0.112233\n",
      "PC 17612    0.112233\n",
      "370376      0.112233\n",
      "Name: Ticket, Length: 681, dtype: float64\n",
      "\n",
      "\n",
      "B96 B98        1.960784\n",
      "G6             1.960784\n",
      "C23 C25 C27    1.960784\n",
      "C22 C26        1.470588\n",
      "F33            1.470588\n",
      "                 ...   \n",
      "E34            0.490196\n",
      "C7             0.490196\n",
      "C54            0.490196\n",
      "E36            0.490196\n",
      "C148           0.490196\n",
      "Name: Cabin, Length: 147, dtype: float64\n",
      "\n",
      "\n",
      "S    72.440945\n",
      "C    18.897638\n",
      "Q     8.661417\n",
      "Name: Embarked, dtype: float64\n",
      "\n",
      "\n"
     ]
    }
   ],
   "source": [
    "for i in data.select_dtypes(include='object').columns.tolist():\n",
    "    data_unik = (data[i].value_counts(normalize=True)*100)\n",
    "    print(data_unik)\n",
    "    print('\\n')"
   ]
  },
  {
   "cell_type": "code",
   "execution_count": 7,
   "id": "3d558690-6f0d-49bb-893f-1a501a835958",
   "metadata": {},
   "outputs": [
    {
     "data": {
      "text/html": [
       "<div>\n",
       "<style scoped>\n",
       "    .dataframe tbody tr th:only-of-type {\n",
       "        vertical-align: middle;\n",
       "    }\n",
       "\n",
       "    .dataframe tbody tr th {\n",
       "        vertical-align: top;\n",
       "    }\n",
       "\n",
       "    .dataframe thead th {\n",
       "        text-align: right;\n",
       "    }\n",
       "</style>\n",
       "<table border=\"1\" class=\"dataframe\">\n",
       "  <thead>\n",
       "    <tr style=\"text-align: right;\">\n",
       "      <th></th>\n",
       "      <th>PassengerId</th>\n",
       "      <th>Survived</th>\n",
       "      <th>Pclass</th>\n",
       "      <th>Name</th>\n",
       "      <th>Sex</th>\n",
       "      <th>Age</th>\n",
       "      <th>SibSp</th>\n",
       "      <th>Parch</th>\n",
       "      <th>Ticket</th>\n",
       "      <th>Fare</th>\n",
       "      <th>Cabin</th>\n",
       "      <th>Embarked</th>\n",
       "    </tr>\n",
       "  </thead>\n",
       "  <tbody>\n",
       "    <tr>\n",
       "      <th>0</th>\n",
       "      <td>1</td>\n",
       "      <td>0</td>\n",
       "      <td>3</td>\n",
       "      <td>Braund, Mr. Owen Harris</td>\n",
       "      <td>male</td>\n",
       "      <td>22.0</td>\n",
       "      <td>1</td>\n",
       "      <td>0</td>\n",
       "      <td>A/5 21171</td>\n",
       "      <td>7.2500</td>\n",
       "      <td>NaN</td>\n",
       "      <td>S</td>\n",
       "    </tr>\n",
       "    <tr>\n",
       "      <th>1</th>\n",
       "      <td>2</td>\n",
       "      <td>1</td>\n",
       "      <td>1</td>\n",
       "      <td>Cumings, Mrs. John Bradley (Florence Briggs Th...</td>\n",
       "      <td>female</td>\n",
       "      <td>38.0</td>\n",
       "      <td>1</td>\n",
       "      <td>0</td>\n",
       "      <td>PC 17599</td>\n",
       "      <td>71.2833</td>\n",
       "      <td>C85</td>\n",
       "      <td>C</td>\n",
       "    </tr>\n",
       "  </tbody>\n",
       "</table>\n",
       "</div>"
      ],
      "text/plain": [
       "   PassengerId  Survived  Pclass  \\\n",
       "0            1         0       3   \n",
       "1            2         1       1   \n",
       "\n",
       "                                                Name     Sex   Age  SibSp  \\\n",
       "0                            Braund, Mr. Owen Harris    male  22.0      1   \n",
       "1  Cumings, Mrs. John Bradley (Florence Briggs Th...  female  38.0      1   \n",
       "\n",
       "   Parch     Ticket     Fare Cabin Embarked  \n",
       "0      0  A/5 21171   7.2500   NaN        S  \n",
       "1      0   PC 17599  71.2833   C85        C  "
      ]
     },
     "execution_count": 7,
     "metadata": {},
     "output_type": "execute_result"
    }
   ],
   "source": [
    "data.head(2)"
   ]
  },
  {
   "cell_type": "markdown",
   "id": "6a90670a-f627-455f-8dc5-82584bd8f932",
   "metadata": {},
   "source": [
    "## Visualization and Insight"
   ]
  },
  {
   "cell_type": "markdown",
   "id": "0dd155de-c89c-4204-b12d-21bb966c106e",
   "metadata": {},
   "source": [
    "### Univariate Analysis"
   ]
  },
  {
   "cell_type": "code",
   "execution_count": 8,
   "id": "bd4b5bbb-0323-493a-b623-8c1cccc25563",
   "metadata": {},
   "outputs": [],
   "source": [
    "# mengelompokkan data menjadi dua grub\n",
    "kategorik = [i for i in data.select_dtypes(include='object').columns.tolist() if i != 'Name' and i != 'Ticket' and i != 'Cabin']\n",
    "numerik = data[['Survived','Pclass','Age','SibSp','Parch','Fare']]"
   ]
  },
  {
   "cell_type": "code",
   "execution_count": 9,
   "id": "985f44a8-acd6-419f-b2d7-aa890093014a",
   "metadata": {},
   "outputs": [
    {
     "data": {
      "image/png": "[encoded data removed]",
      "text/plain": [
       "<Figure size 576x576 with 1 Axes>"
      ]
     },
     "metadata": {
      "needs_background": "light"
     },
     "output_type": "display_data"
    },
    {
     "data": {
      "image/png": "[encoded data removed]",
      "text/plain": [
       "<Figure size 576x576 with 1 Axes>"
      ]
     },
     "metadata": {
      "needs_background": "light"
     },
     "output_type": "display_data"
    }
   ],
   "source": [
    "# visualisasi data kategorik\n",
    "for i in kategorik:\n",
    "    plt.figure(figsize=(8,8))\n",
    "    sns.countplot(data=data, x=data[i], palette='viridis')\n",
    "    plt.show()"
   ]
  },
  {
   "cell_type": "code",
   "execution_count": 10,
   "id": "3a7cacfc-a843-4de4-a635-3d4a53b44271",
   "metadata": {},
   "outputs": [
    {
     "data": {
      "image/png": "[encoded data removed]",
      "text/plain": [
       "<Figure size 576x576 with 1 Axes>"
      ]
     },
     "metadata": {
      "needs_background": "light"
     },
     "output_type": "display_data"
    },
    {
     "data": {
      "image/png": "[encoded data removed]",
      "text/plain": [
       "<Figure size 576x576 with 1 Axes>"
      ]
     },
     "metadata": {
      "needs_background": "light"
     },
     "output_type": "display_data"
    },
    {
     "data": {
      "image/png": "[encoded data removed]",
      "text/plain": [
       "<Figure size 576x576 with 1 Axes>"
      ]
     },
     "metadata": {
      "needs_background": "light"
     },
     "output_type": "display_data"
    },
    {
     "data": {
      "image/png": "[encoded data removed]",
      "text/plain": [
       "<Figure size 576x576 with 1 Axes>"
      ]
     },
     "metadata": {
      "needs_background": "light"
     },
     "output_type": "display_data"
    },
    {
     "data": {
      "image/png": "[encoded data removed]",
      "text/plain": [
       "<Figure size 576x576 with 1 Axes>"
      ]
     },
     "metadata": {
      "needs_background": "light"
     },
     "output_type": "display_data"
    },
    {
     "data": {
      "image/png": "[encoded data removed]",
      "text/plain": [
       "<Figure size 576x576 with 1 Axes>"
      ]
     },
     "metadata": {
      "needs_background": "light"
     },
     "output_type": "display_data"
    }
   ],
   "source": [
    "# visualisasi data numerik\n",
    "for i in numerik:\n",
    "    plt.figure(figsize=(8,8))\n",
    "    sns.histplot(data=data, x=data[i], palette='viridis')\n",
    "    plt.show()"
   ]
  },
  {
   "cell_type": "markdown",
   "id": "986af0f5-72f3-4047-ba5c-c654cef5230a",
   "metadata": {},
   "source": [
    "### Bivariate Analysis"
   ]
  },
  {
   "cell_type": "code",
   "execution_count": 11,
   "id": "b052976d-7f6f-41b4-af75-59ca689ee8ef",
   "metadata": {},
   "outputs": [
    {
     "data": {
      "image/png": "[encoded data removed]",
      "text/plain": [
       "<Figure size 576x576 with 1 Axes>"
      ]
     },
     "metadata": {
      "needs_background": "light"
     },
     "output_type": "display_data"
    },
    {
     "data": {
      "image/png": "[encoded data removed]",
      "text/plain": [
       "<Figure size 576x576 with 1 Axes>"
      ]
     },
     "metadata": {
      "needs_background": "light"
     },
     "output_type": "display_data"
    }
   ],
   "source": [
    "# visualisasi data kategorik\n",
    "for i in kategorik:\n",
    "    plt.figure(figsize=(8,8))\n",
    "    sns.histplot(data=data, x=data[i], hue = data['Survived'])\n",
    "    plt.show()"
   ]
  },
  {
   "cell_type": "code",
   "execution_count": 12,
   "id": "31169c88-6118-46f4-a6e4-6c209085c9b3",
   "metadata": {},
   "outputs": [
    {
     "data": {
      "image/png": "[encoded data removed]",
      "text/plain": [
       "<Figure size 576x576 with 1 Axes>"
      ]
     },
     "metadata": {
      "needs_background": "light"
     },
     "output_type": "display_data"
    },
    {
     "data": {
      "image/png": "[encoded data removed]",
      "text/plain": [
       "<Figure size 576x576 with 1 Axes>"
      ]
     },
     "metadata": {
      "needs_background": "light"
     },
     "output_type": "display_data"
    },
    {
     "data": {
      "image/png": "[encoded data removed]",
      "text/plain": [
       "<Figure size 576x576 with 1 Axes>"
      ]
     },
     "metadata": {
      "needs_background": "light"
     },
     "output_type": "display_data"
    },
    {
     "data": {
      "image/png": "[encoded data removed]",
      "text/plain": [
       "<Figure size 576x576 with 1 Axes>"
      ]
     },
     "metadata": {
      "needs_background": "light"
     },
     "output_type": "display_data"
    },
    {
     "data": {
      "image/png": "[encoded data removed]",
      "text/plain": [
       "<Figure size 576x576 with 1 Axes>"
      ]
     },
     "metadata": {
      "needs_background": "light"
     },
     "output_type": "display_data"
    },
    {
     "data": {
      "image/png": "[encoded data removed]",
      "text/plain": [
       "<Figure size 576x576 with 1 Axes>"
      ]
     },
     "metadata": {
      "needs_background": "light"
     },
     "output_type": "display_data"
    }
   ],
   "source": [
    "# visualisasi data numerik\n",
    "for i in numerik:\n",
    "    plt.figure(figsize=(8,8))\n",
    "    sns.histplot(data=data, x=data[i], hue=data['Survived'], palette='viridis')\n",
    "    plt.show()"
   ]
  },
  {
   "cell_type": "code",
   "execution_count": 13,
   "id": "b35a7632-b38a-476e-86f5-ec2a54c07775",
   "metadata": {},
   "outputs": [
    {
     "data": {
      "image/png": "[encoded data removed]",
      "text/plain": [
       "<Figure size 576x576 with 1 Axes>"
      ]
     },
     "metadata": {
      "needs_background": "light"
     },
     "output_type": "display_data"
    },
    {
     "data": {
      "image/png": "[encoded data removed]",
      "text/plain": [
       "<Figure size 576x576 with 1 Axes>"
      ]
     },
     "metadata": {
      "needs_background": "light"
     },
     "output_type": "display_data"
    },
    {
     "data": {
      "image/png": "[encoded data removed]",
      "text/plain": [
       "<Figure size 576x576 with 1 Axes>"
      ]
     },
     "metadata": {
      "needs_background": "light"
     },
     "output_type": "display_data"
    },
    {
     "data": {
      "image/png": "[encoded data removed]",
      "text/plain": [
       "<Figure size 576x576 with 1 Axes>"
      ]
     },
     "metadata": {
      "needs_background": "light"
     },
     "output_type": "display_data"
    },
    {
     "data": {
      "image/png": "[encoded data removed]",
      "text/plain": [
       "<Figure size 576x576 with 1 Axes>"
      ]
     },
     "metadata": {
      "needs_background": "light"
     },
     "output_type": "display_data"
    }
   ],
   "source": [
    "# visualisasi data numerik\n",
    "for i in data[['Pclass','Age','SibSp','Parch','Fare']]:\n",
    "    plt.figure(figsize=(8,8))\n",
    "    sns.boxplot(data=data, x=data[i], palette='viridis')\n",
    "    plt.show()"
   ]
  },
  {
   "cell_type": "markdown",
   "id": "d02314ae-22d0-450b-b928-371b4214ce3d",
   "metadata": {},
   "source": [
    "### Multivariate Analysis"
   ]
  },
  {
   "cell_type": "code",
   "execution_count": 14,
   "id": "f1020b26-a149-48f3-ab73-4cab5aef73b3",
   "metadata": {},
   "outputs": [
    {
     "data": {
      "image/png": "[encoded data removed]",
      "text/plain": [
       "<Figure size 576x432 with 2 Axes>"
      ]
     },
     "metadata": {
      "needs_background": "light"
     },
     "output_type": "display_data"
    }
   ],
   "source": [
    "plt.figure(figsize=(8,6))\n",
    "sns.heatmap(data.corr(method = 'kendall'), annot = True)\n",
    "plt.show()"
   ]
  },
  {
   "cell_type": "markdown",
   "id": "edf27ba8-d48a-43a8-9f0a-b8d3ce066e3c",
   "metadata": {},
   "source": [
    "**Dari visualisasi heatmap diatas feature yang relevan dengan feature Survived adalah \"Fare\", \"Parch\", \"Pclass\". Namun demikian visualisasi diatas hanya feature-feature numerik yang bisa di visualisasi. Oleh karena itu, perlu dilakukan pengujian labih lanjut untuk feature kategorik.**"
   ]
  },
  {
   "cell_type": "markdown",
   "id": "620c167c-fc96-4ef0-b615-993546f30188",
   "metadata": {},
   "source": [
    "### Uji Chi Square Test"
   ]
  },
  {
   "cell_type": "code",
   "execution_count": 15,
   "id": "2b6c06ec-5f33-4827-89f9-f9d86c019e1d",
   "metadata": {},
   "outputs": [],
   "source": [
    "def chi_square_test(df , col , target):\n",
    "    contingency_table = pd.crosstab(df[col], df[target])\n",
    "    chi2, p_value, dof, expected = stats.chi2_contingency(contingency_table)\n",
    "    print(\"Is there a correlation between :\" + col + \" and \" + target + \"?\" )\n",
    "    print(contingency_table)\n",
    "    print(\"Chi-squared value:\", chi2)\n",
    "    print(\"p-value:\", p_value)\n",
    "    if p_value <= 0.05:\n",
    "        print('The variables are Dependent (reject H0)')\n",
    "    else:\n",
    "        print('The variables are Independent (H0 holds true)')"
   ]
  },
  {
   "cell_type": "code",
   "execution_count": 16,
   "id": "be3035d4-a6d9-4956-b1d3-541d65166757",
   "metadata": {},
   "outputs": [
    {
     "name": "stdout",
     "output_type": "stream",
     "text": [
      "Is there a correlation between :PassengerId and Survived?\n",
      "Survived     0  1\n",
      "PassengerId      \n",
      "1            1  0\n",
      "2            0  1\n",
      "3            0  1\n",
      "4            0  1\n",
      "5            1  0\n",
      "...         .. ..\n",
      "887          1  0\n",
      "888          0  1\n",
      "889          1  0\n",
      "890          0  1\n",
      "891          1  0\n",
      "\n",
      "[891 rows x 2 columns]\n",
      "Chi-squared value: 891.0\n",
      "p-value: 0.484248151973633\n",
      "The variables are Independent (H0 holds true)\n",
      " \n",
      "Is there a correlation between :Survived and Survived?\n",
      "Survived    0    1\n",
      "Survived          \n",
      "0         549    0\n",
      "1           0  342\n",
      "Chi-squared value: 886.7768022383253\n",
      "p-value: 7.352052198553542e-195\n",
      "The variables are Dependent (reject H0)\n",
      " \n",
      "Is there a correlation between :Pclass and Survived?\n",
      "Survived    0    1\n",
      "Pclass            \n",
      "1          80  136\n",
      "2          97   87\n",
      "3         372  119\n",
      "Chi-squared value: 102.88898875696056\n",
      "p-value: 4.549251711298793e-23\n",
      "The variables are Dependent (reject H0)\n",
      " \n",
      "Is there a correlation between :Age and Survived?\n",
      "Survived  0  1\n",
      "Age           \n",
      "0.42      0  1\n",
      "0.67      0  1\n",
      "0.75      0  2\n",
      "0.83      0  2\n",
      "0.92      0  1\n",
      "...      .. ..\n",
      "70.00     2  0\n",
      "70.50     1  0\n",
      "71.00     2  0\n",
      "74.00     1  0\n",
      "80.00     0  1\n",
      "\n",
      "[88 rows x 2 columns]\n",
      "Chi-squared value: 104.15604988902831\n",
      "p-value: 0.10141111018860959\n",
      "The variables are Independent (H0 holds true)\n",
      " \n",
      "Is there a correlation between :SibSp and Survived?\n",
      "Survived    0    1\n",
      "SibSp             \n",
      "0         398  210\n",
      "1          97  112\n",
      "2          15   13\n",
      "3          12    4\n",
      "4          15    3\n",
      "5           5    0\n",
      "8           7    0\n",
      "Chi-squared value: 37.2717929152043\n",
      "p-value: 1.5585810465902147e-06\n",
      "The variables are Dependent (reject H0)\n",
      " \n",
      "Is there a correlation between :Parch and Survived?\n",
      "Survived    0    1\n",
      "Parch             \n",
      "0         445  233\n",
      "1          53   65\n",
      "2          40   40\n",
      "3           2    3\n",
      "4           4    0\n",
      "5           4    1\n",
      "6           1    0\n",
      "Chi-squared value: 27.925784060236168\n",
      "p-value: 9.703526421039997e-05\n",
      "The variables are Dependent (reject H0)\n",
      " \n",
      "Is there a correlation between :Fare and Survived?\n",
      "Survived   0  1\n",
      "Fare           \n",
      "0.0000    14  1\n",
      "4.0125     1  0\n",
      "5.0000     1  0\n",
      "6.2375     1  0\n",
      "6.4375     1  0\n",
      "...       .. ..\n",
      "227.5250   1  3\n",
      "247.5208   1  1\n",
      "262.3750   0  2\n",
      "263.0000   2  2\n",
      "512.3292   0  3\n",
      "\n",
      "[248 rows x 2 columns]\n",
      "Chi-squared value: 425.8083805791106\n",
      "p-value: 1.1647635739939964e-11\n",
      "The variables are Dependent (reject H0)\n",
      " \n"
     ]
    }
   ],
   "source": [
    "import scipy.stats as stats\n",
    "\n",
    "# Fitur Numerik dengan fitur target\n",
    "for col  in data.select_dtypes(exclude='object').columns.tolist():\n",
    "                    chi_square_test(data , col , 'Survived')\n",
    "                    print(\" \")"
   ]
  },
  {
   "cell_type": "markdown",
   "id": "998ee60b-972a-47d5-8cf5-1419a4a283fb",
   "metadata": {},
   "source": [
    "**Dari pengujian chi square test diatas feature-feature numerik yang relevan dengan feature Survived adalah \"Fare\", \"Parch\", \"Pclass\".**"
   ]
  },
  {
   "cell_type": "code",
   "execution_count": 17,
   "id": "82dc0f3f-15c0-41d4-881a-599d05425578",
   "metadata": {},
   "outputs": [
    {
     "name": "stdout",
     "output_type": "stream",
     "text": [
      "Is there a correlation between :Name and Survived?\n",
      "Survived                               0  1\n",
      "Name                                       \n",
      "Abbing, Mr. Anthony                    1  0\n",
      "Abbott, Mr. Rossmore Edward            1  0\n",
      "Abbott, Mrs. Stanton (Rosa Hunt)       0  1\n",
      "Abelson, Mr. Samuel                    1  0\n",
      "Abelson, Mrs. Samuel (Hannah Wizosky)  0  1\n",
      "...                                   .. ..\n",
      "de Mulder, Mr. Theodore                0  1\n",
      "de Pelsmaeker, Mr. Alfons              1  0\n",
      "del Carlo, Mr. Sebastiano              1  0\n",
      "van Billiard, Mr. Austin Blyler        1  0\n",
      "van Melkebeke, Mr. Philemon            1  0\n",
      "\n",
      "[891 rows x 2 columns]\n",
      "Chi-squared value: 891.0\n",
      "p-value: 0.484248151973633\n",
      "The variables are Independent (H0 holds true)\n",
      " \n",
      "Is there a correlation between :Sex and Survived?\n",
      "Survived    0    1\n",
      "Sex               \n",
      "female     81  233\n",
      "male      468  109\n",
      "Chi-squared value: 260.71702016732104\n",
      "p-value: 1.1973570627755645e-58\n",
      "The variables are Dependent (reject H0)\n",
      " \n",
      "Is there a correlation between :Ticket and Survived?\n",
      "Survived     0  1\n",
      "Ticket           \n",
      "110152       0  3\n",
      "110413       1  2\n",
      "110465       2  0\n",
      "110564       0  1\n",
      "110813       0  1\n",
      "...         .. ..\n",
      "W./C. 6608   4  0\n",
      "W./C. 6609   1  0\n",
      "W.E.P. 5734  1  0\n",
      "W/C 14208    1  0\n",
      "WE/P 5735    1  1\n",
      "\n",
      "[681 rows x 2 columns]\n",
      "Chi-squared value: 766.5697029458893\n",
      "p-value: 0.01152729601163775\n",
      "The variables are Dependent (reject H0)\n",
      " \n",
      "Is there a correlation between :Cabin and Survived?\n",
      "Survived  0  1\n",
      "Cabin         \n",
      "A10       1  0\n",
      "A14       1  0\n",
      "A16       0  1\n",
      "A19       1  0\n",
      "A20       0  1\n",
      "...      .. ..\n",
      "F33       0  3\n",
      "F38       1  0\n",
      "F4        0  2\n",
      "G6        2  2\n",
      "T         1  0\n",
      "\n",
      "[147 rows x 2 columns]\n",
      "Chi-squared value: 161.25\n",
      "p-value: 0.18357354976388165\n",
      "The variables are Independent (H0 holds true)\n",
      " \n",
      "Is there a correlation between :Embarked and Survived?\n",
      "Survived    0    1\n",
      "Embarked          \n",
      "C          75   93\n",
      "Q          47   30\n",
      "S         427  217\n",
      "Chi-squared value: 26.48914983923762\n",
      "p-value: 1.769922284120912e-06\n",
      "The variables are Dependent (reject H0)\n",
      " \n"
     ]
    }
   ],
   "source": [
    "import scipy.stats as stats\n",
    "\n",
    "# Fitur kategorik dengan fitur target\n",
    "for col  in data.select_dtypes(include='object').columns.tolist():\n",
    "                    chi_square_test(data , col , 'Survived')\n",
    "                    print(\" \")"
   ]
  },
  {
   "cell_type": "markdown",
   "id": "2fd338a5-b1b4-4bae-abc0-25aaf9298b14",
   "metadata": {},
   "source": [
    "**Dari pengujian chi square test diatas feature-feature kategorik yang relevan dengan feature Survived adalah \"Sex\", \"Ticket\", \"Embarked\".**"
   ]
  },
  {
   "cell_type": "markdown",
   "id": "1fdd944d-8306-432c-be53-1e0bafd09a49",
   "metadata": {},
   "source": [
    "# **Data Pre-Processing**"
   ]
  },
  {
   "cell_type": "markdown",
   "id": "80ffec86-a29b-40f1-891a-e34b361768f9",
   "metadata": {},
   "source": [
    "## Data Cleansing"
   ]
  },
  {
   "cell_type": "code",
   "execution_count": 18,
   "id": "517cdccc-bd35-4a8b-ad57-13f13b0530a7",
   "metadata": {},
   "outputs": [
    {
     "data": {
      "text/html": [
       "<div>\n",
       "<style scoped>\n",
       "    .dataframe tbody tr th:only-of-type {\n",
       "        vertical-align: middle;\n",
       "    }\n",
       "\n",
       "    .dataframe tbody tr th {\n",
       "        vertical-align: top;\n",
       "    }\n",
       "\n",
       "    .dataframe thead th {\n",
       "        text-align: right;\n",
       "    }\n",
       "</style>\n",
       "<table border=\"1\" class=\"dataframe\">\n",
       "  <thead>\n",
       "    <tr style=\"text-align: right;\">\n",
       "      <th></th>\n",
       "      <th>PassengerId</th>\n",
       "      <th>Survived</th>\n",
       "      <th>Pclass</th>\n",
       "      <th>Name</th>\n",
       "      <th>Sex</th>\n",
       "      <th>Age</th>\n",
       "      <th>SibSp</th>\n",
       "      <th>Parch</th>\n",
       "      <th>Ticket</th>\n",
       "      <th>Fare</th>\n",
       "      <th>Cabin</th>\n",
       "      <th>Embarked</th>\n",
       "    </tr>\n",
       "  </thead>\n",
       "  <tbody>\n",
       "    <tr>\n",
       "      <th>0</th>\n",
       "      <td>1</td>\n",
       "      <td>0</td>\n",
       "      <td>3</td>\n",
       "      <td>Braund, Mr. Owen Harris</td>\n",
       "      <td>male</td>\n",
       "      <td>22.0</td>\n",
       "      <td>1</td>\n",
       "      <td>0</td>\n",
       "      <td>A/5 21171</td>\n",
       "      <td>7.2500</td>\n",
       "      <td>NaN</td>\n",
       "      <td>S</td>\n",
       "    </tr>\n",
       "    <tr>\n",
       "      <th>1</th>\n",
       "      <td>2</td>\n",
       "      <td>1</td>\n",
       "      <td>1</td>\n",
       "      <td>Cumings, Mrs. John Bradley (Florence Briggs Th...</td>\n",
       "      <td>female</td>\n",
       "      <td>38.0</td>\n",
       "      <td>1</td>\n",
       "      <td>0</td>\n",
       "      <td>PC 17599</td>\n",
       "      <td>71.2833</td>\n",
       "      <td>C85</td>\n",
       "      <td>C</td>\n",
       "    </tr>\n",
       "    <tr>\n",
       "      <th>2</th>\n",
       "      <td>3</td>\n",
       "      <td>1</td>\n",
       "      <td>3</td>\n",
       "      <td>Heikkinen, Miss. Laina</td>\n",
       "      <td>female</td>\n",
       "      <td>26.0</td>\n",
       "      <td>0</td>\n",
       "      <td>0</td>\n",
       "      <td>STON/O2. 3101282</td>\n",
       "      <td>7.9250</td>\n",
       "      <td>NaN</td>\n",
       "      <td>S</td>\n",
       "    </tr>\n",
       "    <tr>\n",
       "      <th>3</th>\n",
       "      <td>4</td>\n",
       "      <td>1</td>\n",
       "      <td>1</td>\n",
       "      <td>Futrelle, Mrs. Jacques Heath (Lily May Peel)</td>\n",
       "      <td>female</td>\n",
       "      <td>35.0</td>\n",
       "      <td>1</td>\n",
       "      <td>0</td>\n",
       "      <td>113803</td>\n",
       "      <td>53.1000</td>\n",
       "      <td>C123</td>\n",
       "      <td>S</td>\n",
       "    </tr>\n",
       "    <tr>\n",
       "      <th>4</th>\n",
       "      <td>5</td>\n",
       "      <td>0</td>\n",
       "      <td>3</td>\n",
       "      <td>Allen, Mr. William Henry</td>\n",
       "      <td>male</td>\n",
       "      <td>35.0</td>\n",
       "      <td>0</td>\n",
       "      <td>0</td>\n",
       "      <td>373450</td>\n",
       "      <td>8.0500</td>\n",
       "      <td>NaN</td>\n",
       "      <td>S</td>\n",
       "    </tr>\n",
       "  </tbody>\n",
       "</table>\n",
       "</div>"
      ],
      "text/plain": [
       "   PassengerId  Survived  Pclass  \\\n",
       "0            1         0       3   \n",
       "1            2         1       1   \n",
       "2            3         1       3   \n",
       "3            4         1       1   \n",
       "4            5         0       3   \n",
       "\n",
       "                                                Name     Sex   Age  SibSp  \\\n",
       "0                            Braund, Mr. Owen Harris    male  22.0      1   \n",
       "1  Cumings, Mrs. John Bradley (Florence Briggs Th...  female  38.0      1   \n",
       "2                             Heikkinen, Miss. Laina  female  26.0      0   \n",
       "3       Futrelle, Mrs. Jacques Heath (Lily May Peel)  female  35.0      1   \n",
       "4                           Allen, Mr. William Henry    male  35.0      0   \n",
       "\n",
       "   Parch            Ticket     Fare Cabin Embarked  \n",
       "0      0         A/5 21171   7.2500   NaN        S  \n",
       "1      0          PC 17599  71.2833   C85        C  \n",
       "2      0  STON/O2. 3101282   7.9250   NaN        S  \n",
       "3      0            113803  53.1000  C123        S  \n",
       "4      0            373450   8.0500   NaN        S  "
      ]
     },
     "execution_count": 18,
     "metadata": {},
     "output_type": "execute_result"
    }
   ],
   "source": [
    "# mengcopy data asli\n",
    "data_clean = data.copy()\n",
    "data_clean.head()"
   ]
  },
  {
   "cell_type": "markdown",
   "id": "668160ac-6194-49cb-9a41-f66dcd0d1c2d",
   "metadata": {},
   "source": [
    "### Missing Value"
   ]
  },
  {
   "cell_type": "code",
   "execution_count": 19,
   "id": "6f8c3b37-003d-4de6-b6c3-82e0f4244fe8",
   "metadata": {},
   "outputs": [
    {
     "data": {
      "text/plain": [
       "PassengerId     0.000000\n",
       "Survived        0.000000\n",
       "Pclass          0.000000\n",
       "Name            0.000000\n",
       "Sex             0.000000\n",
       "Age            19.865320\n",
       "SibSp           0.000000\n",
       "Parch           0.000000\n",
       "Ticket          0.000000\n",
       "Fare            0.000000\n",
       "Cabin          77.104377\n",
       "Embarked        0.224467\n",
       "dtype: float64"
      ]
     },
     "execution_count": 19,
     "metadata": {},
     "output_type": "execute_result"
    }
   ],
   "source": [
    "# missing value\n",
    "data_clean.isna().sum()/len(data_clean)*100"
   ]
  },
  {
   "cell_type": "markdown",
   "id": "edb5a436-966a-422f-8806-1480145e53a1",
   "metadata": {},
   "source": [
    "**Terlihat bahwa terdapat 3 kolom yang memiliki missing value, kolom \"Age\" terdapat 20% missing value, kolom \"Cabin\" terdapat 77%, dan kolom \"Embarked\" 0.22% missing value.** "
   ]
  },
  {
   "cell_type": "code",
   "execution_count": 20,
   "id": "b96d4e7f-8b6c-42b3-b812-74b8ec72d8f4",
   "metadata": {},
   "outputs": [
    {
     "data": {
      "text/plain": [
       "count    714.000000\n",
       "mean      29.699118\n",
       "std       14.526497\n",
       "min        0.420000\n",
       "10%       14.000000\n",
       "25%       20.125000\n",
       "50%       28.000000\n",
       "75%       38.000000\n",
       "90%       50.000000\n",
       "max       80.000000\n",
       "Name: Age, dtype: float64"
      ]
     },
     "execution_count": 20,
     "metadata": {},
     "output_type": "execute_result"
    }
   ],
   "source": [
    "data_clean['Age'].describe(percentiles=[0.1,0.25,0.75,0.9])"
   ]
  },
  {
   "cell_type": "code",
   "execution_count": 21,
   "id": "d893e6b2-27cc-470d-b6fe-61685219086f",
   "metadata": {},
   "outputs": [
    {
     "data": {
      "text/plain": [
       "count     889\n",
       "unique      3\n",
       "top         S\n",
       "freq      644\n",
       "Name: Embarked, dtype: object"
      ]
     },
     "execution_count": 21,
     "metadata": {},
     "output_type": "execute_result"
    }
   ],
   "source": [
    "data_clean['Embarked'].describe(exclude='object')"
   ]
  },
  {
   "cell_type": "markdown",
   "id": "8e37e26e-f52b-4dbd-b7bd-b8555bfe2985",
   "metadata": {},
   "source": [
    "**Berdasarkan statistika descriptive diatas kolom \"Age\" terdapat nilai outlier namun disini kami tidak akan menghandle nilai outlier karena nilai tersebut masih masuk akal dan tidak terlalu banyak juga nilai outliernya. Dan disini saya akan menghandle kolom \"Age\" dengan menggunakan nilai median pada kolom tersebut.** <br>\n",
    "**Dan untuk kolom \"Embarked\" akan dihandle dengan modus dari kolom tersebut yaitu S.**"
   ]
  },
  {
   "cell_type": "code",
   "execution_count": 22,
   "id": "833919eb-67f9-4326-ae47-9903af97c841",
   "metadata": {},
   "outputs": [],
   "source": [
    "# handle miss value pada kolom \"Age\"\n",
    "data_clean['Age'].fillna(28, inplace=True)"
   ]
  },
  {
   "cell_type": "code",
   "execution_count": 23,
   "id": "cbd8e7aa-798f-4333-8cd2-7d8f278347dd",
   "metadata": {},
   "outputs": [],
   "source": [
    "# handle miss value pada kolom \"Cabin\"\n",
    "data_clean.drop(columns=['Cabin'], inplace=True)"
   ]
  },
  {
   "cell_type": "code",
   "execution_count": 24,
   "id": "3297392f-1d26-4382-9f1f-2239e9023480",
   "metadata": {},
   "outputs": [],
   "source": [
    "# handle miss value pada kolom \"Embarked\"\n",
    "data_clean['Embarked'].fillna('S', inplace=True)"
   ]
  },
  {
   "cell_type": "code",
   "execution_count": 25,
   "id": "ac2982c7-7284-4425-89a5-9e5b07a09801",
   "metadata": {},
   "outputs": [
    {
     "data": {
      "text/plain": [
       "PassengerId    0\n",
       "Survived       0\n",
       "Pclass         0\n",
       "Name           0\n",
       "Sex            0\n",
       "Age            0\n",
       "SibSp          0\n",
       "Parch          0\n",
       "Ticket         0\n",
       "Fare           0\n",
       "Embarked       0\n",
       "dtype: int64"
      ]
     },
     "execution_count": 25,
     "metadata": {},
     "output_type": "execute_result"
    }
   ],
   "source": [
    "# periksa missing value pada setiap kolom\n",
    "data_clean.isna().sum()"
   ]
  },
  {
   "cell_type": "markdown",
   "id": "901ed50c-1111-461d-b2d7-50f68a5be232",
   "metadata": {},
   "source": [
    "### Data Duplikat"
   ]
  },
  {
   "cell_type": "code",
   "execution_count": 26,
   "id": "99539e42-484a-4be8-8ffc-cb79c6d9ccbc",
   "metadata": {},
   "outputs": [
    {
     "data": {
      "text/plain": [
       "0"
      ]
     },
     "execution_count": 26,
     "metadata": {},
     "output_type": "execute_result"
    }
   ],
   "source": [
    "data_clean.duplicated().sum()"
   ]
  },
  {
   "cell_type": "markdown",
   "id": "0b54dfa7-b9a4-4b6b-85e6-0b2cb860d947",
   "metadata": {},
   "source": [
    "### Data Inkonsisten"
   ]
  },
  {
   "cell_type": "code",
   "execution_count": 27,
   "id": "e6011d3f-542a-42ad-8c14-4c66932e69fa",
   "metadata": {},
   "outputs": [
    {
     "data": {
      "text/html": [
       "<div>\n",
       "<style scoped>\n",
       "    .dataframe tbody tr th:only-of-type {\n",
       "        vertical-align: middle;\n",
       "    }\n",
       "\n",
       "    .dataframe tbody tr th {\n",
       "        vertical-align: top;\n",
       "    }\n",
       "\n",
       "    .dataframe thead th {\n",
       "        text-align: right;\n",
       "    }\n",
       "</style>\n",
       "<table border=\"1\" class=\"dataframe\">\n",
       "  <thead>\n",
       "    <tr style=\"text-align: right;\">\n",
       "      <th></th>\n",
       "      <th>PassengerId</th>\n",
       "      <th>Survived</th>\n",
       "      <th>Pclass</th>\n",
       "      <th>Name</th>\n",
       "      <th>Sex</th>\n",
       "      <th>Age</th>\n",
       "      <th>SibSp</th>\n",
       "      <th>Parch</th>\n",
       "      <th>Ticket</th>\n",
       "      <th>Fare</th>\n",
       "      <th>Embarked</th>\n",
       "    </tr>\n",
       "  </thead>\n",
       "  <tbody>\n",
       "    <tr>\n",
       "      <th>359</th>\n",
       "      <td>360</td>\n",
       "      <td>1</td>\n",
       "      <td>3</td>\n",
       "      <td>Mockler, Miss. Helen Mary \"Ellie\"</td>\n",
       "      <td>female</td>\n",
       "      <td>28.0</td>\n",
       "      <td>0</td>\n",
       "      <td>0</td>\n",
       "      <td>330980</td>\n",
       "      <td>7.8792</td>\n",
       "      <td>Q</td>\n",
       "    </tr>\n",
       "    <tr>\n",
       "      <th>791</th>\n",
       "      <td>792</td>\n",
       "      <td>0</td>\n",
       "      <td>2</td>\n",
       "      <td>Gaskell, Mr. Alfred</td>\n",
       "      <td>male</td>\n",
       "      <td>16.0</td>\n",
       "      <td>0</td>\n",
       "      <td>0</td>\n",
       "      <td>239865</td>\n",
       "      <td>26.0000</td>\n",
       "      <td>S</td>\n",
       "    </tr>\n",
       "    <tr>\n",
       "      <th>363</th>\n",
       "      <td>364</td>\n",
       "      <td>0</td>\n",
       "      <td>3</td>\n",
       "      <td>Asim, Mr. Adola</td>\n",
       "      <td>male</td>\n",
       "      <td>35.0</td>\n",
       "      <td>0</td>\n",
       "      <td>0</td>\n",
       "      <td>SOTON/O.Q. 3101310</td>\n",
       "      <td>7.0500</td>\n",
       "      <td>S</td>\n",
       "    </tr>\n",
       "    <tr>\n",
       "      <th>657</th>\n",
       "      <td>658</td>\n",
       "      <td>0</td>\n",
       "      <td>3</td>\n",
       "      <td>Bourke, Mrs. John (Catherine)</td>\n",
       "      <td>female</td>\n",
       "      <td>32.0</td>\n",
       "      <td>1</td>\n",
       "      <td>1</td>\n",
       "      <td>364849</td>\n",
       "      <td>15.5000</td>\n",
       "      <td>Q</td>\n",
       "    </tr>\n",
       "    <tr>\n",
       "      <th>751</th>\n",
       "      <td>752</td>\n",
       "      <td>1</td>\n",
       "      <td>3</td>\n",
       "      <td>Moor, Master. Meier</td>\n",
       "      <td>male</td>\n",
       "      <td>6.0</td>\n",
       "      <td>0</td>\n",
       "      <td>1</td>\n",
       "      <td>392096</td>\n",
       "      <td>12.4750</td>\n",
       "      <td>S</td>\n",
       "    </tr>\n",
       "  </tbody>\n",
       "</table>\n",
       "</div>"
      ],
      "text/plain": [
       "     PassengerId  Survived  Pclass                               Name     Sex  \\\n",
       "359          360         1       3  Mockler, Miss. Helen Mary \"Ellie\"  female   \n",
       "791          792         0       2                Gaskell, Mr. Alfred    male   \n",
       "363          364         0       3                    Asim, Mr. Adola    male   \n",
       "657          658         0       3      Bourke, Mrs. John (Catherine)  female   \n",
       "751          752         1       3                Moor, Master. Meier    male   \n",
       "\n",
       "      Age  SibSp  Parch              Ticket     Fare Embarked  \n",
       "359  28.0      0      0              330980   7.8792        Q  \n",
       "791  16.0      0      0              239865  26.0000        S  \n",
       "363  35.0      0      0  SOTON/O.Q. 3101310   7.0500        S  \n",
       "657  32.0      1      1              364849  15.5000        Q  \n",
       "751   6.0      0      1              392096  12.4750        S  "
      ]
     },
     "execution_count": 27,
     "metadata": {},
     "output_type": "execute_result"
    }
   ],
   "source": [
    "data_clean.sample(5)"
   ]
  },
  {
   "cell_type": "markdown",
   "id": "87699a08-86ca-439f-ac9c-20901381a7bb",
   "metadata": {},
   "source": [
    "**Ada 2 kolom yang perlu diperbaiki terkait inkonsisten data, yaitu kolom \"Name\" dan \"Ticket\".**"
   ]
  },
  {
   "cell_type": "code",
   "execution_count": 28,
   "id": "d8ae0eb3-2c8d-4e5d-8773-6b8ee97e63fd",
   "metadata": {},
   "outputs": [
    {
     "data": {
      "text/html": [
       "<div>\n",
       "<style scoped>\n",
       "    .dataframe tbody tr th:only-of-type {\n",
       "        vertical-align: middle;\n",
       "    }\n",
       "\n",
       "    .dataframe tbody tr th {\n",
       "        vertical-align: top;\n",
       "    }\n",
       "\n",
       "    .dataframe thead th {\n",
       "        text-align: right;\n",
       "    }\n",
       "</style>\n",
       "<table border=\"1\" class=\"dataframe\">\n",
       "  <thead>\n",
       "    <tr style=\"text-align: right;\">\n",
       "      <th></th>\n",
       "      <th>PassengerId</th>\n",
       "      <th>Survived</th>\n",
       "      <th>Pclass</th>\n",
       "      <th>Name</th>\n",
       "      <th>Sex</th>\n",
       "      <th>Age</th>\n",
       "      <th>SibSp</th>\n",
       "      <th>Parch</th>\n",
       "      <th>Ticket</th>\n",
       "      <th>Fare</th>\n",
       "      <th>Embarked</th>\n",
       "    </tr>\n",
       "  </thead>\n",
       "  <tbody>\n",
       "    <tr>\n",
       "      <th>0</th>\n",
       "      <td>1</td>\n",
       "      <td>0</td>\n",
       "      <td>3</td>\n",
       "      <td>Mr. Owen Harris</td>\n",
       "      <td>male</td>\n",
       "      <td>22.0</td>\n",
       "      <td>1</td>\n",
       "      <td>0</td>\n",
       "      <td>A/5 21171</td>\n",
       "      <td>7.2500</td>\n",
       "      <td>S</td>\n",
       "    </tr>\n",
       "    <tr>\n",
       "      <th>1</th>\n",
       "      <td>2</td>\n",
       "      <td>1</td>\n",
       "      <td>1</td>\n",
       "      <td>Mrs. John Bradley</td>\n",
       "      <td>female</td>\n",
       "      <td>38.0</td>\n",
       "      <td>1</td>\n",
       "      <td>0</td>\n",
       "      <td>PC 17599</td>\n",
       "      <td>71.2833</td>\n",
       "      <td>C</td>\n",
       "    </tr>\n",
       "    <tr>\n",
       "      <th>2</th>\n",
       "      <td>3</td>\n",
       "      <td>1</td>\n",
       "      <td>3</td>\n",
       "      <td>Miss. Laina</td>\n",
       "      <td>female</td>\n",
       "      <td>26.0</td>\n",
       "      <td>0</td>\n",
       "      <td>0</td>\n",
       "      <td>STON/O2. 3101282</td>\n",
       "      <td>7.9250</td>\n",
       "      <td>S</td>\n",
       "    </tr>\n",
       "    <tr>\n",
       "      <th>3</th>\n",
       "      <td>4</td>\n",
       "      <td>1</td>\n",
       "      <td>1</td>\n",
       "      <td>Mrs. Jacques Heath</td>\n",
       "      <td>female</td>\n",
       "      <td>35.0</td>\n",
       "      <td>1</td>\n",
       "      <td>0</td>\n",
       "      <td>113803</td>\n",
       "      <td>53.1000</td>\n",
       "      <td>S</td>\n",
       "    </tr>\n",
       "    <tr>\n",
       "      <th>4</th>\n",
       "      <td>5</td>\n",
       "      <td>0</td>\n",
       "      <td>3</td>\n",
       "      <td>Mr. William Henry</td>\n",
       "      <td>male</td>\n",
       "      <td>35.0</td>\n",
       "      <td>0</td>\n",
       "      <td>0</td>\n",
       "      <td>373450</td>\n",
       "      <td>8.0500</td>\n",
       "      <td>S</td>\n",
       "    </tr>\n",
       "  </tbody>\n",
       "</table>\n",
       "</div>"
      ],
      "text/plain": [
       "   PassengerId  Survived  Pclass                Name     Sex   Age  SibSp  \\\n",
       "0            1         0       3     Mr. Owen Harris    male  22.0      1   \n",
       "1            2         1       1   Mrs. John Bradley  female  38.0      1   \n",
       "2            3         1       3         Miss. Laina  female  26.0      0   \n",
       "3            4         1       1  Mrs. Jacques Heath  female  35.0      1   \n",
       "4            5         0       3   Mr. William Henry    male  35.0      0   \n",
       "\n",
       "   Parch            Ticket     Fare Embarked  \n",
       "0      0         A/5 21171   7.2500        S  \n",
       "1      0          PC 17599  71.2833        C  \n",
       "2      0  STON/O2. 3101282   7.9250        S  \n",
       "3      0            113803  53.1000        S  \n",
       "4      0            373450   8.0500        S  "
      ]
     },
     "execution_count": 28,
     "metadata": {},
     "output_type": "execute_result"
    }
   ],
   "source": [
    "# handle kolom \"Name\"\n",
    "import re\n",
    "\n",
    "data_clean['Name']=data_clean['Name'].str.split(',').str[-1].str.strip()\n",
    "data_clean['Name'] = data_clean['Name'].apply(lambda x: re.sub(r'\\([^)]*\\)', '', x).strip())\n",
    "data_clean.head()"
   ]
  },
  {
   "cell_type": "code",
   "execution_count": 29,
   "id": "d2bd1957-b7cb-4cd3-896b-ce816531d6f0",
   "metadata": {},
   "outputs": [
    {
     "data": {
      "text/html": [
       "<div>\n",
       "<style scoped>\n",
       "    .dataframe tbody tr th:only-of-type {\n",
       "        vertical-align: middle;\n",
       "    }\n",
       "\n",
       "    .dataframe tbody tr th {\n",
       "        vertical-align: top;\n",
       "    }\n",
       "\n",
       "    .dataframe thead th {\n",
       "        text-align: right;\n",
       "    }\n",
       "</style>\n",
       "<table border=\"1\" class=\"dataframe\">\n",
       "  <thead>\n",
       "    <tr style=\"text-align: right;\">\n",
       "      <th></th>\n",
       "      <th>PassengerId</th>\n",
       "      <th>Survived</th>\n",
       "      <th>Pclass</th>\n",
       "      <th>Name</th>\n",
       "      <th>Sex</th>\n",
       "      <th>Age</th>\n",
       "      <th>SibSp</th>\n",
       "      <th>Parch</th>\n",
       "      <th>Ticket</th>\n",
       "      <th>Fare</th>\n",
       "      <th>Embarked</th>\n",
       "    </tr>\n",
       "  </thead>\n",
       "  <tbody>\n",
       "    <tr>\n",
       "      <th>0</th>\n",
       "      <td>1</td>\n",
       "      <td>0</td>\n",
       "      <td>3</td>\n",
       "      <td>Mr. Owen Harris</td>\n",
       "      <td>male</td>\n",
       "      <td>22.0</td>\n",
       "      <td>1</td>\n",
       "      <td>0</td>\n",
       "      <td>21171</td>\n",
       "      <td>7.2500</td>\n",
       "      <td>S</td>\n",
       "    </tr>\n",
       "    <tr>\n",
       "      <th>1</th>\n",
       "      <td>2</td>\n",
       "      <td>1</td>\n",
       "      <td>1</td>\n",
       "      <td>Mrs. John Bradley</td>\n",
       "      <td>female</td>\n",
       "      <td>38.0</td>\n",
       "      <td>1</td>\n",
       "      <td>0</td>\n",
       "      <td>17599</td>\n",
       "      <td>71.2833</td>\n",
       "      <td>C</td>\n",
       "    </tr>\n",
       "    <tr>\n",
       "      <th>2</th>\n",
       "      <td>3</td>\n",
       "      <td>1</td>\n",
       "      <td>3</td>\n",
       "      <td>Miss. Laina</td>\n",
       "      <td>female</td>\n",
       "      <td>26.0</td>\n",
       "      <td>0</td>\n",
       "      <td>0</td>\n",
       "      <td>3101282</td>\n",
       "      <td>7.9250</td>\n",
       "      <td>S</td>\n",
       "    </tr>\n",
       "    <tr>\n",
       "      <th>3</th>\n",
       "      <td>4</td>\n",
       "      <td>1</td>\n",
       "      <td>1</td>\n",
       "      <td>Mrs. Jacques Heath</td>\n",
       "      <td>female</td>\n",
       "      <td>35.0</td>\n",
       "      <td>1</td>\n",
       "      <td>0</td>\n",
       "      <td>113803</td>\n",
       "      <td>53.1000</td>\n",
       "      <td>S</td>\n",
       "    </tr>\n",
       "    <tr>\n",
       "      <th>4</th>\n",
       "      <td>5</td>\n",
       "      <td>0</td>\n",
       "      <td>3</td>\n",
       "      <td>Mr. William Henry</td>\n",
       "      <td>male</td>\n",
       "      <td>35.0</td>\n",
       "      <td>0</td>\n",
       "      <td>0</td>\n",
       "      <td>373450</td>\n",
       "      <td>8.0500</td>\n",
       "      <td>S</td>\n",
       "    </tr>\n",
       "  </tbody>\n",
       "</table>\n",
       "</div>"
      ],
      "text/plain": [
       "   PassengerId  Survived  Pclass                Name     Sex   Age  SibSp  \\\n",
       "0            1         0       3     Mr. Owen Harris    male  22.0      1   \n",
       "1            2         1       1   Mrs. John Bradley  female  38.0      1   \n",
       "2            3         1       3         Miss. Laina  female  26.0      0   \n",
       "3            4         1       1  Mrs. Jacques Heath  female  35.0      1   \n",
       "4            5         0       3   Mr. William Henry    male  35.0      0   \n",
       "\n",
       "   Parch   Ticket     Fare Embarked  \n",
       "0      0    21171   7.2500        S  \n",
       "1      0    17599  71.2833        C  \n",
       "2      0  3101282   7.9250        S  \n",
       "3      0   113803  53.1000        S  \n",
       "4      0   373450   8.0500        S  "
      ]
     },
     "execution_count": 29,
     "metadata": {},
     "output_type": "execute_result"
    }
   ],
   "source": [
    "# handle kolom \"Ticket\"\n",
    "data_clean[\"Ticket\"] = data_clean['Ticket'].str.split(' ').str[-1].str.strip()\n",
    "data_clean.head()"
   ]
  },
  {
   "cell_type": "markdown",
   "id": "433aaac6-90d0-49cd-91b1-0cedaa9dcaf5",
   "metadata": {},
   "source": [
    "**Terlihat bahwa semua kolom sudah konsisten pada setiap kolom.**"
   ]
  },
  {
   "cell_type": "markdown",
   "id": "ecb99ac9-e4f3-446f-8c8f-f7faa19d5839",
   "metadata": {},
   "source": [
    "### Outlier"
   ]
  },
  {
   "cell_type": "markdown",
   "id": "cd0a8ab0-b39b-4077-995d-a2fa9ce60256",
   "metadata": {},
   "source": [
    "**Berdasarkan statistika descriptive diatas kolom \"Age\", \"Fare\", \"SibSp\", \"Parch\" terdapat nilai outlier namun disini kami tidak akan menghandle nilai outlier karena nilai tersebut masih masuk akal dan tidak terlalu banyak juga nilai outliernya.**"
   ]
  },
  {
   "cell_type": "markdown",
   "id": "2db3b3af-c969-46fb-890d-373193e76a66",
   "metadata": {},
   "source": [
    "## Feature Extraction"
   ]
  },
  {
   "cell_type": "code",
   "execution_count": 30,
   "id": "09688a79-9905-41a2-8547-8d7941a99816",
   "metadata": {},
   "outputs": [
    {
     "data": {
      "text/plain": [
       "array(['anak muda', 'dewasa', 'balita', 'remaja', 'anak-anak', 'lansia'],\n",
       "      dtype=object)"
      ]
     },
     "execution_count": 30,
     "metadata": {},
     "output_type": "execute_result"
    }
   ],
   "source": [
    "# menambahkan kolom \"Age_group\"\n",
    "age_group={'balita' : list(range(0,6)),\n",
    "          'anak-anak' : list(range(6,11)),\n",
    "          'remaja' : list(range(11,18)),\n",
    "          'anak muda' : list(range(18,30)),\n",
    "          'dewasa' : list(range(30,60)),\n",
    "          'lansia' : list(range(60,81))}\n",
    "\n",
    "data_clean['Age_group'] = data_clean['Age'].apply(lambda x: next(\n",
    "    (k for k, v in age_group.items() if any((isinstance(x, float) and val <= x < val + 1) or x == val for val in v)),\n",
    "    'Other'))\n",
    "data_clean['Age_group'].unique()"
   ]
  },
  {
   "cell_type": "code",
   "execution_count": 31,
   "id": "242b02ad-2b0f-4ae2-9ce9-c1244c475c04",
   "metadata": {},
   "outputs": [
    {
     "data": {
      "text/plain": [
       "array([ 1,  0,  4,  2,  6,  5,  3,  7, 10], dtype=int64)"
      ]
     },
     "execution_count": 31,
     "metadata": {},
     "output_type": "execute_result"
    }
   ],
   "source": [
    "# menambahkan kolom \"Jumlah_tanggungan\"\n",
    "data_clean['Jumlah_tanggungan'] = data_clean['SibSp'] + data_clean['Parch']\n",
    "data_clean['Jumlah_tanggungan'].unique()"
   ]
  },
  {
   "cell_type": "code",
   "execution_count": 32,
   "id": "ceaced12-09d2-4687-9978-2a128c1e06c0",
   "metadata": {},
   "outputs": [
    {
     "data": {
      "text/plain": [
       "array(['ekonomi', 'executive', 'premium', 'bisnis', 'karyawan'],\n",
       "      dtype=object)"
      ]
     },
     "execution_count": 32,
     "metadata": {},
     "output_type": "execute_result"
    }
   ],
   "source": [
    "# menambahkan kolom \"Ticket_class\"\n",
    "ticket_class = {'karyawan': [0],\n",
    "                'ekonomi': list(range(1, 41)),\n",
    "                'premium': list(range(41, 71)),\n",
    "                'executive': list(range(71, 100)),\n",
    "                'bisnis': list(range(100, 600))}\n",
    "\n",
    "data_clean['Ticket_class'] = data_clean['Fare'].apply(lambda x: next(\n",
    "    (k for k, v in ticket_class.items() if any((isinstance(x, float) and val <= x < val + 1) or x == val for val in v)),\n",
    "    'Other'))\n",
    "\n",
    "data_clean['Ticket_class'].unique()"
   ]
  },
  {
   "cell_type": "code",
   "execution_count": 33,
   "id": "0343ef4c-112d-45e6-9f9d-2d8ed34002f5",
   "metadata": {},
   "outputs": [
    {
     "data": {
      "text/html": [
       "<div>\n",
       "<style scoped>\n",
       "    .dataframe tbody tr th:only-of-type {\n",
       "        vertical-align: middle;\n",
       "    }\n",
       "\n",
       "    .dataframe tbody tr th {\n",
       "        vertical-align: top;\n",
       "    }\n",
       "\n",
       "    .dataframe thead th {\n",
       "        text-align: right;\n",
       "    }\n",
       "</style>\n",
       "<table border=\"1\" class=\"dataframe\">\n",
       "  <thead>\n",
       "    <tr style=\"text-align: right;\">\n",
       "      <th></th>\n",
       "      <th>PassengerId</th>\n",
       "      <th>Survived</th>\n",
       "      <th>Pclass</th>\n",
       "      <th>Name</th>\n",
       "      <th>Sex</th>\n",
       "      <th>Age</th>\n",
       "      <th>SibSp</th>\n",
       "      <th>Parch</th>\n",
       "      <th>Ticket</th>\n",
       "      <th>Fare</th>\n",
       "      <th>Embarked</th>\n",
       "      <th>Age_group</th>\n",
       "      <th>Jumlah_tanggungan</th>\n",
       "      <th>Ticket_class</th>\n",
       "    </tr>\n",
       "  </thead>\n",
       "  <tbody>\n",
       "    <tr>\n",
       "      <th>0</th>\n",
       "      <td>1</td>\n",
       "      <td>0</td>\n",
       "      <td>3</td>\n",
       "      <td>Mr. Owen Harris</td>\n",
       "      <td>male</td>\n",
       "      <td>22.0</td>\n",
       "      <td>1</td>\n",
       "      <td>0</td>\n",
       "      <td>21171</td>\n",
       "      <td>7.2500</td>\n",
       "      <td>S</td>\n",
       "      <td>anak muda</td>\n",
       "      <td>1</td>\n",
       "      <td>ekonomi</td>\n",
       "    </tr>\n",
       "    <tr>\n",
       "      <th>1</th>\n",
       "      <td>2</td>\n",
       "      <td>1</td>\n",
       "      <td>1</td>\n",
       "      <td>Mrs. John Bradley</td>\n",
       "      <td>female</td>\n",
       "      <td>38.0</td>\n",
       "      <td>1</td>\n",
       "      <td>0</td>\n",
       "      <td>17599</td>\n",
       "      <td>71.2833</td>\n",
       "      <td>C</td>\n",
       "      <td>dewasa</td>\n",
       "      <td>1</td>\n",
       "      <td>executive</td>\n",
       "    </tr>\n",
       "    <tr>\n",
       "      <th>2</th>\n",
       "      <td>3</td>\n",
       "      <td>1</td>\n",
       "      <td>3</td>\n",
       "      <td>Miss. Laina</td>\n",
       "      <td>female</td>\n",
       "      <td>26.0</td>\n",
       "      <td>0</td>\n",
       "      <td>0</td>\n",
       "      <td>3101282</td>\n",
       "      <td>7.9250</td>\n",
       "      <td>S</td>\n",
       "      <td>anak muda</td>\n",
       "      <td>0</td>\n",
       "      <td>ekonomi</td>\n",
       "    </tr>\n",
       "    <tr>\n",
       "      <th>3</th>\n",
       "      <td>4</td>\n",
       "      <td>1</td>\n",
       "      <td>1</td>\n",
       "      <td>Mrs. Jacques Heath</td>\n",
       "      <td>female</td>\n",
       "      <td>35.0</td>\n",
       "      <td>1</td>\n",
       "      <td>0</td>\n",
       "      <td>113803</td>\n",
       "      <td>53.1000</td>\n",
       "      <td>S</td>\n",
       "      <td>dewasa</td>\n",
       "      <td>1</td>\n",
       "      <td>premium</td>\n",
       "    </tr>\n",
       "    <tr>\n",
       "      <th>4</th>\n",
       "      <td>5</td>\n",
       "      <td>0</td>\n",
       "      <td>3</td>\n",
       "      <td>Mr. William Henry</td>\n",
       "      <td>male</td>\n",
       "      <td>35.0</td>\n",
       "      <td>0</td>\n",
       "      <td>0</td>\n",
       "      <td>373450</td>\n",
       "      <td>8.0500</td>\n",
       "      <td>S</td>\n",
       "      <td>dewasa</td>\n",
       "      <td>0</td>\n",
       "      <td>ekonomi</td>\n",
       "    </tr>\n",
       "  </tbody>\n",
       "</table>\n",
       "</div>"
      ],
      "text/plain": [
       "   PassengerId  Survived  Pclass                Name     Sex   Age  SibSp  \\\n",
       "0            1         0       3     Mr. Owen Harris    male  22.0      1   \n",
       "1            2         1       1   Mrs. John Bradley  female  38.0      1   \n",
       "2            3         1       3         Miss. Laina  female  26.0      0   \n",
       "3            4         1       1  Mrs. Jacques Heath  female  35.0      1   \n",
       "4            5         0       3   Mr. William Henry    male  35.0      0   \n",
       "\n",
       "   Parch   Ticket     Fare Embarked  Age_group  Jumlah_tanggungan Ticket_class  \n",
       "0      0    21171   7.2500        S  anak muda                  1      ekonomi  \n",
       "1      0    17599  71.2833        C     dewasa                  1    executive  \n",
       "2      0  3101282   7.9250        S  anak muda                  0      ekonomi  \n",
       "3      0   113803  53.1000        S     dewasa                  1      premium  \n",
       "4      0   373450   8.0500        S     dewasa                  0      ekonomi  "
      ]
     },
     "execution_count": 33,
     "metadata": {},
     "output_type": "execute_result"
    }
   ],
   "source": [
    "# melihat 5 data teratas\n",
    "data_clean.head()"
   ]
  },
  {
   "cell_type": "markdown",
   "id": "0a4002d0-7b3e-40b0-a661-a98df905b103",
   "metadata": {},
   "source": [
    "## Feature Engineering"
   ]
  },
  {
   "cell_type": "markdown",
   "id": "61a152b6-df93-4c7c-90ed-62f6dd0b6614",
   "metadata": {},
   "source": [
    "### Transformation"
   ]
  },
  {
   "cell_type": "code",
   "execution_count": 34,
   "id": "dfc73694-49bb-4518-8f19-f6d67286d478",
   "metadata": {},
   "outputs": [],
   "source": [
    "# mengcopy data asli\n",
    "data_scaling = data_clean.copy()"
   ]
  },
  {
   "cell_type": "code",
   "execution_count": 35,
   "id": "d6cd0d8e-8a5e-4e0b-8494-58a6ba762ad7",
   "metadata": {},
   "outputs": [],
   "source": [
    "# menglompokkan kolom kategorik\n",
    "kategorik = [i for i in data_scaling.select_dtypes(include='object').columns.tolist() if i != 'Name' and i != 'Ticket_class']"
   ]
  },
  {
   "cell_type": "code",
   "execution_count": 36,
   "id": "179915b5-580f-41cc-a870-17678df98005",
   "metadata": {},
   "outputs": [],
   "source": [
    "# mengganti nilai kategorik kedalam nilai numerik\n",
    "from sklearn.preprocessing import LabelEncoder\n",
    "\n",
    "label_encoder = LabelEncoder()\n",
    "for k in kategorik:\n",
    "    data_scaling[k] = label_encoder.fit_transform(data_scaling[k])"
   ]
  },
  {
   "cell_type": "code",
   "execution_count": 37,
   "id": "6a6870f8-0771-4b33-a3ad-9471b7019c3e",
   "metadata": {},
   "outputs": [],
   "source": [
    "# mengganti nilai kategorik kedalam nilai numerik pada kolom \"Ticket_class\"\n",
    "mapping = {'bisnis' : 1,\n",
    "          'executive' : 2,\n",
    "          'premium' : 3,\n",
    "          'ekonomi' : 4,\n",
    "          'karyawan' : 5}\n",
    "\n",
    "data_scaling['Ticket_class'] = data_scaling['Ticket_class'].apply(lambda x: mapping.get(x,0))"
   ]
  },
  {
   "cell_type": "code",
   "execution_count": 38,
   "id": "077c3d56-0b56-476d-b43b-567c1db16179",
   "metadata": {},
   "outputs": [
    {
     "data": {
      "text/html": [
       "<div>\n",
       "<style scoped>\n",
       "    .dataframe tbody tr th:only-of-type {\n",
       "        vertical-align: middle;\n",
       "    }\n",
       "\n",
       "    .dataframe tbody tr th {\n",
       "        vertical-align: top;\n",
       "    }\n",
       "\n",
       "    .dataframe thead th {\n",
       "        text-align: right;\n",
       "    }\n",
       "</style>\n",
       "<table border=\"1\" class=\"dataframe\">\n",
       "  <thead>\n",
       "    <tr style=\"text-align: right;\">\n",
       "      <th></th>\n",
       "      <th>PassengerId</th>\n",
       "      <th>Survived</th>\n",
       "      <th>Pclass</th>\n",
       "      <th>Name</th>\n",
       "      <th>Sex</th>\n",
       "      <th>Age</th>\n",
       "      <th>SibSp</th>\n",
       "      <th>Parch</th>\n",
       "      <th>Ticket</th>\n",
       "      <th>Fare</th>\n",
       "      <th>Embarked</th>\n",
       "      <th>Age_group</th>\n",
       "      <th>Jumlah_tanggungan</th>\n",
       "      <th>Ticket_class</th>\n",
       "    </tr>\n",
       "  </thead>\n",
       "  <tbody>\n",
       "    <tr>\n",
       "      <th>0</th>\n",
       "      <td>1</td>\n",
       "      <td>0</td>\n",
       "      <td>3</td>\n",
       "      <td>Mr. Owen Harris</td>\n",
       "      <td>1</td>\n",
       "      <td>22.0</td>\n",
       "      <td>1</td>\n",
       "      <td>0</td>\n",
       "      <td>161</td>\n",
       "      <td>7.2500</td>\n",
       "      <td>2</td>\n",
       "      <td>0</td>\n",
       "      <td>1</td>\n",
       "      <td>4</td>\n",
       "    </tr>\n",
       "    <tr>\n",
       "      <th>1</th>\n",
       "      <td>2</td>\n",
       "      <td>1</td>\n",
       "      <td>1</td>\n",
       "      <td>Mrs. John Bradley</td>\n",
       "      <td>0</td>\n",
       "      <td>38.0</td>\n",
       "      <td>1</td>\n",
       "      <td>0</td>\n",
       "      <td>126</td>\n",
       "      <td>71.2833</td>\n",
       "      <td>0</td>\n",
       "      <td>3</td>\n",
       "      <td>1</td>\n",
       "      <td>2</td>\n",
       "    </tr>\n",
       "    <tr>\n",
       "      <th>2</th>\n",
       "      <td>3</td>\n",
       "      <td>1</td>\n",
       "      <td>3</td>\n",
       "      <td>Miss. Laina</td>\n",
       "      <td>0</td>\n",
       "      <td>26.0</td>\n",
       "      <td>0</td>\n",
       "      <td>0</td>\n",
       "      <td>347</td>\n",
       "      <td>7.9250</td>\n",
       "      <td>2</td>\n",
       "      <td>0</td>\n",
       "      <td>0</td>\n",
       "      <td>4</td>\n",
       "    </tr>\n",
       "    <tr>\n",
       "      <th>3</th>\n",
       "      <td>4</td>\n",
       "      <td>1</td>\n",
       "      <td>1</td>\n",
       "      <td>Mrs. Jacques Heath</td>\n",
       "      <td>0</td>\n",
       "      <td>35.0</td>\n",
       "      <td>1</td>\n",
       "      <td>0</td>\n",
       "      <td>51</td>\n",
       "      <td>53.1000</td>\n",
       "      <td>2</td>\n",
       "      <td>3</td>\n",
       "      <td>1</td>\n",
       "      <td>3</td>\n",
       "    </tr>\n",
       "    <tr>\n",
       "      <th>4</th>\n",
       "      <td>5</td>\n",
       "      <td>0</td>\n",
       "      <td>3</td>\n",
       "      <td>Mr. William Henry</td>\n",
       "      <td>1</td>\n",
       "      <td>35.0</td>\n",
       "      <td>0</td>\n",
       "      <td>0</td>\n",
       "      <td>606</td>\n",
       "      <td>8.0500</td>\n",
       "      <td>2</td>\n",
       "      <td>3</td>\n",
       "      <td>0</td>\n",
       "      <td>4</td>\n",
       "    </tr>\n",
       "  </tbody>\n",
       "</table>\n",
       "</div>"
      ],
      "text/plain": [
       "   PassengerId  Survived  Pclass                Name  Sex   Age  SibSp  Parch  \\\n",
       "0            1         0       3     Mr. Owen Harris    1  22.0      1      0   \n",
       "1            2         1       1   Mrs. John Bradley    0  38.0      1      0   \n",
       "2            3         1       3         Miss. Laina    0  26.0      0      0   \n",
       "3            4         1       1  Mrs. Jacques Heath    0  35.0      1      0   \n",
       "4            5         0       3   Mr. William Henry    1  35.0      0      0   \n",
       "\n",
       "   Ticket     Fare  Embarked  Age_group  Jumlah_tanggungan  Ticket_class  \n",
       "0     161   7.2500         2          0                  1             4  \n",
       "1     126  71.2833         0          3                  1             2  \n",
       "2     347   7.9250         2          0                  0             4  \n",
       "3      51  53.1000         2          3                  1             3  \n",
       "4     606   8.0500         2          3                  0             4  "
      ]
     },
     "execution_count": 38,
     "metadata": {},
     "output_type": "execute_result"
    }
   ],
   "source": [
    "data_scaling.head()"
   ]
  },
  {
   "cell_type": "markdown",
   "id": "ce34a1d9-83b1-419d-8b8d-837c20054ba6",
   "metadata": {},
   "source": [
    "### Scaling\n",
    "\n",
    "Pada kasus ini saya memiliki menggunakna standarisasi karena data yang kita milki mempunyai nilai outlier dan distribusinya tidak normal."
   ]
  },
  {
   "cell_type": "code",
   "execution_count": 39,
   "id": "462a62da-daa9-4fc1-a3f0-e42b11f24cd8",
   "metadata": {},
   "outputs": [],
   "source": [
    "# menglompokkan kolom numerik\n",
    "numerik = [i for i in data_scaling.select_dtypes(exclude='object').columns.tolist() if i != 'Survived' and i != 'PassengerId']"
   ]
  },
  {
   "cell_type": "code",
   "execution_count": 40,
   "id": "15c5fb9f-d88d-45f1-9cb8-08263108666d",
   "metadata": {},
   "outputs": [],
   "source": [
    "# standarisasi pada kolom numerik\n",
    "from sklearn.preprocessing import StandardScaler\n",
    "\n",
    "ss = StandardScaler()\n",
    "\n",
    "for i in numerik:\n",
    "    data_scaling[i] = ss.fit_transform(data_scaling[i].values.reshape(-1,1))"
   ]
  },
  {
   "cell_type": "code",
   "execution_count": 41,
   "id": "9d2fdaf3-9e57-4c02-b665-5240329112d9",
   "metadata": {},
   "outputs": [
    {
     "data": {
      "text/html": [
       "<div>\n",
       "<style scoped>\n",
       "    .dataframe tbody tr th:only-of-type {\n",
       "        vertical-align: middle;\n",
       "    }\n",
       "\n",
       "    .dataframe tbody tr th {\n",
       "        vertical-align: top;\n",
       "    }\n",
       "\n",
       "    .dataframe thead th {\n",
       "        text-align: right;\n",
       "    }\n",
       "</style>\n",
       "<table border=\"1\" class=\"dataframe\">\n",
       "  <thead>\n",
       "    <tr style=\"text-align: right;\">\n",
       "      <th></th>\n",
       "      <th>PassengerId</th>\n",
       "      <th>Survived</th>\n",
       "      <th>Pclass</th>\n",
       "      <th>Name</th>\n",
       "      <th>Sex</th>\n",
       "      <th>Age</th>\n",
       "      <th>SibSp</th>\n",
       "      <th>Parch</th>\n",
       "      <th>Ticket</th>\n",
       "      <th>Fare</th>\n",
       "      <th>Embarked</th>\n",
       "      <th>Age_group</th>\n",
       "      <th>Jumlah_tanggungan</th>\n",
       "      <th>Ticket_class</th>\n",
       "    </tr>\n",
       "  </thead>\n",
       "  <tbody>\n",
       "    <tr>\n",
       "      <th>0</th>\n",
       "      <td>1</td>\n",
       "      <td>0</td>\n",
       "      <td>0.827377</td>\n",
       "      <td>Mr. Owen Harris</td>\n",
       "      <td>0.737695</td>\n",
       "      <td>-0.565736</td>\n",
       "      <td>0.432793</td>\n",
       "      <td>-0.473674</td>\n",
       "      <td>-0.842248</td>\n",
       "      <td>-0.502445</td>\n",
       "      <td>0.585954</td>\n",
       "      <td>-0.922899</td>\n",
       "      <td>0.059160</td>\n",
       "      <td>0.415785</td>\n",
       "    </tr>\n",
       "    <tr>\n",
       "      <th>1</th>\n",
       "      <td>2</td>\n",
       "      <td>1</td>\n",
       "      <td>-1.566107</td>\n",
       "      <td>Mrs. John Bradley</td>\n",
       "      <td>-1.355574</td>\n",
       "      <td>0.663861</td>\n",
       "      <td>0.432793</td>\n",
       "      <td>-0.473674</td>\n",
       "      <td>-1.018588</td>\n",
       "      <td>0.786845</td>\n",
       "      <td>-1.942303</td>\n",
       "      <td>0.879080</td>\n",
       "      <td>0.059160</td>\n",
       "      <td>-1.914182</td>\n",
       "    </tr>\n",
       "    <tr>\n",
       "      <th>2</th>\n",
       "      <td>3</td>\n",
       "      <td>1</td>\n",
       "      <td>0.827377</td>\n",
       "      <td>Miss. Laina</td>\n",
       "      <td>-1.355574</td>\n",
       "      <td>-0.258337</td>\n",
       "      <td>-0.474545</td>\n",
       "      <td>-0.473674</td>\n",
       "      <td>0.094874</td>\n",
       "      <td>-0.488854</td>\n",
       "      <td>0.585954</td>\n",
       "      <td>-0.922899</td>\n",
       "      <td>-0.560975</td>\n",
       "      <td>0.415785</td>\n",
       "    </tr>\n",
       "    <tr>\n",
       "      <th>3</th>\n",
       "      <td>4</td>\n",
       "      <td>1</td>\n",
       "      <td>-1.566107</td>\n",
       "      <td>Mrs. Jacques Heath</td>\n",
       "      <td>-1.355574</td>\n",
       "      <td>0.433312</td>\n",
       "      <td>0.432793</td>\n",
       "      <td>-0.473674</td>\n",
       "      <td>-1.396459</td>\n",
       "      <td>0.420730</td>\n",
       "      <td>0.585954</td>\n",
       "      <td>0.879080</td>\n",
       "      <td>0.059160</td>\n",
       "      <td>-0.749198</td>\n",
       "    </tr>\n",
       "    <tr>\n",
       "      <th>4</th>\n",
       "      <td>5</td>\n",
       "      <td>0</td>\n",
       "      <td>0.827377</td>\n",
       "      <td>Mr. William Henry</td>\n",
       "      <td>0.737695</td>\n",
       "      <td>0.433312</td>\n",
       "      <td>-0.474545</td>\n",
       "      <td>-0.473674</td>\n",
       "      <td>1.399790</td>\n",
       "      <td>-0.486337</td>\n",
       "      <td>0.585954</td>\n",
       "      <td>0.879080</td>\n",
       "      <td>-0.560975</td>\n",
       "      <td>0.415785</td>\n",
       "    </tr>\n",
       "  </tbody>\n",
       "</table>\n",
       "</div>"
      ],
      "text/plain": [
       "   PassengerId  Survived    Pclass                Name       Sex       Age  \\\n",
       "0            1         0  0.827377     Mr. Owen Harris  0.737695 -0.565736   \n",
       "1            2         1 -1.566107   Mrs. John Bradley -1.355574  0.663861   \n",
       "2            3         1  0.827377         Miss. Laina -1.355574 -0.258337   \n",
       "3            4         1 -1.566107  Mrs. Jacques Heath -1.355574  0.433312   \n",
       "4            5         0  0.827377   Mr. William Henry  0.737695  0.433312   \n",
       "\n",
       "      SibSp     Parch    Ticket      Fare  Embarked  Age_group  \\\n",
       "0  0.432793 -0.473674 -0.842248 -0.502445  0.585954  -0.922899   \n",
       "1  0.432793 -0.473674 -1.018588  0.786845 -1.942303   0.879080   \n",
       "2 -0.474545 -0.473674  0.094874 -0.488854  0.585954  -0.922899   \n",
       "3  0.432793 -0.473674 -1.396459  0.420730  0.585954   0.879080   \n",
       "4 -0.474545 -0.473674  1.399790 -0.486337  0.585954   0.879080   \n",
       "\n",
       "   Jumlah_tanggungan  Ticket_class  \n",
       "0           0.059160      0.415785  \n",
       "1           0.059160     -1.914182  \n",
       "2          -0.560975      0.415785  \n",
       "3           0.059160     -0.749198  \n",
       "4          -0.560975      0.415785  "
      ]
     },
     "execution_count": 41,
     "metadata": {},
     "output_type": "execute_result"
    }
   ],
   "source": [
    "data_scaling.head()"
   ]
  },
  {
   "cell_type": "markdown",
   "id": "6d1b1f1f-6784-45c9-91d0-6c867da1330b",
   "metadata": {},
   "source": [
    "# **Exploratory Data Analysis**"
   ]
  },
  {
   "cell_type": "code",
   "execution_count": 42,
   "id": "883ae59c-8247-4fb8-8faa-7f3c6818e9cc",
   "metadata": {},
   "outputs": [
    {
     "data": {
      "text/html": [
       "<div>\n",
       "<style scoped>\n",
       "    .dataframe tbody tr th:only-of-type {\n",
       "        vertical-align: middle;\n",
       "    }\n",
       "\n",
       "    .dataframe tbody tr th {\n",
       "        vertical-align: top;\n",
       "    }\n",
       "\n",
       "    .dataframe thead th {\n",
       "        text-align: right;\n",
       "    }\n",
       "</style>\n",
       "<table border=\"1\" class=\"dataframe\">\n",
       "  <thead>\n",
       "    <tr style=\"text-align: right;\">\n",
       "      <th></th>\n",
       "      <th>PassengerId</th>\n",
       "      <th>Survived</th>\n",
       "      <th>Pclass</th>\n",
       "      <th>Name</th>\n",
       "      <th>Sex</th>\n",
       "      <th>Age</th>\n",
       "      <th>SibSp</th>\n",
       "      <th>Parch</th>\n",
       "      <th>Ticket</th>\n",
       "      <th>Fare</th>\n",
       "      <th>Embarked</th>\n",
       "      <th>Age_group</th>\n",
       "      <th>Jumlah_tanggungan</th>\n",
       "      <th>Ticket_class</th>\n",
       "    </tr>\n",
       "  </thead>\n",
       "  <tbody>\n",
       "    <tr>\n",
       "      <th>0</th>\n",
       "      <td>1</td>\n",
       "      <td>0</td>\n",
       "      <td>3</td>\n",
       "      <td>Mr. Owen Harris</td>\n",
       "      <td>male</td>\n",
       "      <td>22.0</td>\n",
       "      <td>1</td>\n",
       "      <td>0</td>\n",
       "      <td>21171</td>\n",
       "      <td>7.2500</td>\n",
       "      <td>S</td>\n",
       "      <td>anak muda</td>\n",
       "      <td>1</td>\n",
       "      <td>ekonomi</td>\n",
       "    </tr>\n",
       "    <tr>\n",
       "      <th>1</th>\n",
       "      <td>2</td>\n",
       "      <td>1</td>\n",
       "      <td>1</td>\n",
       "      <td>Mrs. John Bradley</td>\n",
       "      <td>female</td>\n",
       "      <td>38.0</td>\n",
       "      <td>1</td>\n",
       "      <td>0</td>\n",
       "      <td>17599</td>\n",
       "      <td>71.2833</td>\n",
       "      <td>C</td>\n",
       "      <td>dewasa</td>\n",
       "      <td>1</td>\n",
       "      <td>executive</td>\n",
       "    </tr>\n",
       "    <tr>\n",
       "      <th>2</th>\n",
       "      <td>3</td>\n",
       "      <td>1</td>\n",
       "      <td>3</td>\n",
       "      <td>Miss. Laina</td>\n",
       "      <td>female</td>\n",
       "      <td>26.0</td>\n",
       "      <td>0</td>\n",
       "      <td>0</td>\n",
       "      <td>3101282</td>\n",
       "      <td>7.9250</td>\n",
       "      <td>S</td>\n",
       "      <td>anak muda</td>\n",
       "      <td>0</td>\n",
       "      <td>ekonomi</td>\n",
       "    </tr>\n",
       "    <tr>\n",
       "      <th>3</th>\n",
       "      <td>4</td>\n",
       "      <td>1</td>\n",
       "      <td>1</td>\n",
       "      <td>Mrs. Jacques Heath</td>\n",
       "      <td>female</td>\n",
       "      <td>35.0</td>\n",
       "      <td>1</td>\n",
       "      <td>0</td>\n",
       "      <td>113803</td>\n",
       "      <td>53.1000</td>\n",
       "      <td>S</td>\n",
       "      <td>dewasa</td>\n",
       "      <td>1</td>\n",
       "      <td>premium</td>\n",
       "    </tr>\n",
       "    <tr>\n",
       "      <th>4</th>\n",
       "      <td>5</td>\n",
       "      <td>0</td>\n",
       "      <td>3</td>\n",
       "      <td>Mr. William Henry</td>\n",
       "      <td>male</td>\n",
       "      <td>35.0</td>\n",
       "      <td>0</td>\n",
       "      <td>0</td>\n",
       "      <td>373450</td>\n",
       "      <td>8.0500</td>\n",
       "      <td>S</td>\n",
       "      <td>dewasa</td>\n",
       "      <td>0</td>\n",
       "      <td>ekonomi</td>\n",
       "    </tr>\n",
       "  </tbody>\n",
       "</table>\n",
       "</div>"
      ],
      "text/plain": [
       "   PassengerId  Survived  Pclass                Name     Sex   Age  SibSp  \\\n",
       "0            1         0       3     Mr. Owen Harris    male  22.0      1   \n",
       "1            2         1       1   Mrs. John Bradley  female  38.0      1   \n",
       "2            3         1       3         Miss. Laina  female  26.0      0   \n",
       "3            4         1       1  Mrs. Jacques Heath  female  35.0      1   \n",
       "4            5         0       3   Mr. William Henry    male  35.0      0   \n",
       "\n",
       "   Parch   Ticket     Fare Embarked  Age_group  Jumlah_tanggungan Ticket_class  \n",
       "0      0    21171   7.2500        S  anak muda                  1      ekonomi  \n",
       "1      0    17599  71.2833        C     dewasa                  1    executive  \n",
       "2      0  3101282   7.9250        S  anak muda                  0      ekonomi  \n",
       "3      0   113803  53.1000        S     dewasa                  1      premium  \n",
       "4      0   373450   8.0500        S     dewasa                  0      ekonomi  "
      ]
     },
     "execution_count": 42,
     "metadata": {},
     "output_type": "execute_result"
    }
   ],
   "source": [
    "# mengcopy data yang sudah di bersihkan\n",
    "data_eda = data_clean.copy()\n",
    "data_eda.head()"
   ]
  },
  {
   "cell_type": "code",
   "execution_count": 43,
   "id": "21543fa5-3b2d-4606-9cce-3fd36973a518",
   "metadata": {},
   "outputs": [],
   "source": [
    "# Export \n",
    "data_eda.to_csv('data_eda.csv', index=False)"
   ]
  },
  {
   "cell_type": "markdown",
   "id": "691c63d1-ef07-4798-89c2-664938d7550c",
   "metadata": {},
   "source": [
    "## Univariate"
   ]
  },
  {
   "cell_type": "code",
   "execution_count": 44,
   "id": "ddf2eb62-adb7-4889-9c8c-87821af890d0",
   "metadata": {},
   "outputs": [],
   "source": [
    "# mengelompokkan kolom kategorik dan numerik\n",
    "kategorik = [i for i in data_eda.select_dtypes(include='object').columns.tolist() if i != 'Name' and i != 'Ticket']\n",
    "numerik = [i for i in data_eda.select_dtypes(exclude='object').columns.tolist() if i != 'PassengerId']"
   ]
  },
  {
   "cell_type": "code",
   "execution_count": 45,
   "id": "f0bf400c-5689-4a22-bdfd-8fede47e1fc6",
   "metadata": {},
   "outputs": [
    {
     "data": {
      "image/png": "[encoded data removed]",
      "text/plain": [
       "<Figure size 576x576 with 1 Axes>"
      ]
     },
     "metadata": {
      "needs_background": "light"
     },
     "output_type": "display_data"
    },
    {
     "data": {
      "image/png": "[encoded data removed]",
      "text/plain": [
       "<Figure size 576x576 with 1 Axes>"
      ]
     },
     "metadata": {
      "needs_background": "light"
     },
     "output_type": "display_data"
    },
    {
     "data": {
      "image/png": "[encoded data removed]",
      "text/plain": [
       "<Figure size 576x576 with 1 Axes>"
      ]
     },
     "metadata": {
      "needs_background": "light"
     },
     "output_type": "display_data"
    },
    {
     "data": {
      "image/png": "[encoded data removed]",
      "text/plain": [
       "<Figure size 576x576 with 1 Axes>"
      ]
     },
     "metadata": {
      "needs_background": "light"
     },
     "output_type": "display_data"
    }
   ],
   "source": [
    "# visualisasi kolom kategorik\n",
    "for i in kategorik:\n",
    "    plt.figure(figsize=(8,8))\n",
    "    sort = data_eda[i].value_counts().sort_values(ascending=False).index\n",
    "    sns.countplot(data=data_eda, x=data_eda[i], order=sort, palette = 'viridis')\n",
    "    plt.show()"
   ]
  },
  {
   "cell_type": "code",
   "execution_count": 69,
   "id": "185e5b84-b86e-46fd-89b5-04f8ea84bf32",
   "metadata": {},
   "outputs": [
    {
     "data": {
      "image/png": "[encoded data removed]",
      "text/plain": [
       "<Figure size 576x576 with 1 Axes>"
      ]
     },
     "metadata": {
      "needs_background": "light"
     },
     "output_type": "display_data"
    },
    {
     "data": {
      "image/png": "[encoded data removed]",
      "text/plain": [
       "<Figure size 576x576 with 1 Axes>"
      ]
     },
     "metadata": {
      "needs_background": "light"
     },
     "output_type": "display_data"
    },
    {
     "data": {
      "image/png": "[encoded data removed]",
      "text/plain": [
       "<Figure size 576x576 with 1 Axes>"
      ]
     },
     "metadata": {
      "needs_background": "light"
     },
     "output_type": "display_data"
    },
    {
     "data": {
      "image/png": "[encoded data removed]",
      "text/plain": [
       "<Figure size 576x576 with 1 Axes>"
      ]
     },
     "metadata": {
      "needs_background": "light"
     },
     "output_type": "display_data"
    },
    {
     "data": {
      "image/png": "[encoded data removed]",
      "text/plain": [
       "<Figure size 576x576 with 1 Axes>"
      ]
     },
     "metadata": {
      "needs_background": "light"
     },
     "output_type": "display_data"
    },
    {
     "data": {
      "image/png": "[encoded data removed]",
      "text/plain": [
       "<Figure size 576x576 with 1 Axes>"
      ]
     },
     "metadata": {
      "needs_background": "light"
     },
     "output_type": "display_data"
    },
    {
     "data": {
      "image/png": "[encoded data removed]",
      "text/plain": [
       "<Figure size 576x576 with 1 Axes>"
      ]
     },
     "metadata": {
      "needs_background": "light"
     },
     "output_type": "display_data"
    }
   ],
   "source": [
    "# Visualisasi kolom numerik\n",
    "for i in numerik:\n",
    "    plt.figure(figsize=(8,8))\n",
    "    sns.histplot(data=data_eda, x=data_eda[i], palette = 'viridis')\n",
    "    plt.show()"
   ]
  },
  {
   "cell_type": "code",
   "execution_count": 47,
   "id": "8d80bff1-29ce-4ff0-aa2f-55e1ac60d2f8",
   "metadata": {},
   "outputs": [
    {
     "data": {
      "image/png": "[encoded data removed]",
      "text/plain": [
       "<Figure size 576x576 with 1 Axes>"
      ]
     },
     "metadata": {
      "needs_background": "light"
     },
     "output_type": "display_data"
    },
    {
     "data": {
      "image/png": "[encoded data removed]",
      "text/plain": [
       "<Figure size 576x576 with 1 Axes>"
      ]
     },
     "metadata": {
      "needs_background": "light"
     },
     "output_type": "display_data"
    },
    {
     "data": {
      "image/png": "[encoded data removed]",
      "text/plain": [
       "<Figure size 576x576 with 1 Axes>"
      ]
     },
     "metadata": {
      "needs_background": "light"
     },
     "output_type": "display_data"
    },
    {
     "data": {
      "image/png": "[encoded data removed]",
      "text/plain": [
       "<Figure size 576x576 with 1 Axes>"
      ]
     },
     "metadata": {
      "needs_background": "light"
     },
     "output_type": "display_data"
    },
    {
     "data": {
      "image/png": "[encoded data removed]",
      "text/plain": [
       "<Figure size 576x576 with 1 Axes>"
      ]
     },
     "metadata": {
      "needs_background": "light"
     },
     "output_type": "display_data"
    },
    {
     "data": {
      "image/png": "[encoded data removed]",
      "text/plain": [
       "<Figure size 576x576 with 1 Axes>"
      ]
     },
     "metadata": {
      "needs_background": "light"
     },
     "output_type": "display_data"
    },
    {
     "data": {
      "image/png": "[encoded data removed]",
      "text/plain": [
       "<Figure size 576x576 with 1 Axes>"
      ]
     },
     "metadata": {
      "needs_background": "light"
     },
     "output_type": "display_data"
    }
   ],
   "source": [
    "for i in numerik:\n",
    "    plt.figure(figsize=(8,8))\n",
    "    sns.boxplot(data=data_eda, y = i, palette = 'viridis')\n",
    "    plt.show()"
   ]
  },
  {
   "cell_type": "markdown",
   "id": "9a592fca-b274-4efc-888d-7bef9cf47e0b",
   "metadata": {},
   "source": [
    "## Bivariate"
   ]
  },
  {
   "cell_type": "code",
   "execution_count": 48,
   "id": "c65b52a3-9ff6-4631-b440-2bbef19f1ee9",
   "metadata": {},
   "outputs": [
    {
     "data": {
      "image/png": "[encoded data removed]",
      "text/plain": [
       "<Figure size 576x576 with 1 Axes>"
      ]
     },
     "metadata": {
      "needs_background": "light"
     },
     "output_type": "display_data"
    },
    {
     "data": {
      "image/png": "[encoded data removed]",
      "text/plain": [
       "<Figure size 576x576 with 1 Axes>"
      ]
     },
     "metadata": {
      "needs_background": "light"
     },
     "output_type": "display_data"
    },
    {
     "data": {
      "image/png": "[encoded data removed]",
      "text/plain": [
       "<Figure size 576x576 with 1 Axes>"
      ]
     },
     "metadata": {
      "needs_background": "light"
     },
     "output_type": "display_data"
    },
    {
     "data": {
      "image/png": "[encoded data removed]",
      "text/plain": [
       "<Figure size 576x576 with 1 Axes>"
      ]
     },
     "metadata": {
      "needs_background": "light"
     },
     "output_type": "display_data"
    }
   ],
   "source": [
    "for i in kategorik:\n",
    "    plt.figure(figsize=(8,8))\n",
    "    sort = data_eda[i].value_counts().sort_values(ascending=False).index\n",
    "    sns.countplot(data=data_eda, x=data_eda[i], order=sort, palette = 'viridis', hue='Survived')\n",
    "    plt.show()"
   ]
  },
  {
   "cell_type": "code",
   "execution_count": 49,
   "id": "df32ad46-66be-4390-a810-3fec4b3a232e",
   "metadata": {},
   "outputs": [
    {
     "data": {
      "image/png": "[encoded data removed]",
      "text/plain": [
       "<Figure size 576x576 with 1 Axes>"
      ]
     },
     "metadata": {
      "needs_background": "light"
     },
     "output_type": "display_data"
    },
    {
     "data": {
      "image/png": "[encoded data removed]",
      "text/plain": [
       "<Figure size 576x576 with 1 Axes>"
      ]
     },
     "metadata": {
      "needs_background": "light"
     },
     "output_type": "display_data"
    },
    {
     "data": {
      "image/png": "[encoded data removed]",
      "text/plain": [
       "<Figure size 576x576 with 1 Axes>"
      ]
     },
     "metadata": {
      "needs_background": "light"
     },
     "output_type": "display_data"
    },
    {
     "data": {
      "image/png": "[encoded data removed]",
      "text/plain": [
       "<Figure size 576x576 with 1 Axes>"
      ]
     },
     "metadata": {
      "needs_background": "light"
     },
     "output_type": "display_data"
    },
    {
     "data": {
      "image/png": "[encoded data removed]",
      "text/plain": [
       "<Figure size 576x576 with 1 Axes>"
      ]
     },
     "metadata": {
      "needs_background": "light"
     },
     "output_type": "display_data"
    },
    {
     "data": {
      "image/png": "[encoded data removed]",
      "text/plain": [
       "<Figure size 576x576 with 1 Axes>"
      ]
     },
     "metadata": {
      "needs_background": "light"
     },
     "output_type": "display_data"
    },
    {
     "data": {
      "image/png": "[encoded data removed]",
      "text/plain": [
       "<Figure size 576x576 with 1 Axes>"
      ]
     },
     "metadata": {
      "needs_background": "light"
     },
     "output_type": "display_data"
    }
   ],
   "source": [
    "for i in numerik:\n",
    "    plt.figure(figsize=(8,8))\n",
    "    sns.histplot(data=data_eda, x=data_eda[i], palette = 'viridis', hue='Survived')\n",
    "    plt.show()"
   ]
  },
  {
   "cell_type": "markdown",
   "id": "4faac15f-dae8-4dea-b73c-ce03a58bc357",
   "metadata": {},
   "source": [
    "## Multivariate"
   ]
  },
  {
   "cell_type": "code",
   "execution_count": 50,
   "id": "afb65c91-562b-4423-89ab-a198b9570261",
   "metadata": {},
   "outputs": [
    {
     "data": {
      "image/png": "[encoded data removed]",
      "text/plain": [
       "<Figure size 576x432 with 2 Axes>"
      ]
     },
     "metadata": {
      "needs_background": "light"
     },
     "output_type": "display_data"
    }
   ],
   "source": [
    "plt.figure(figsize=(8,6))\n",
    "sns.heatmap(data = data.corr(), annot=True)\n",
    "plt.show()"
   ]
  },
  {
   "cell_type": "code",
   "execution_count": 51,
   "id": "ea0cb2a7-020a-4516-9d06-b2a5a25cf159",
   "metadata": {},
   "outputs": [
    {
     "name": "stdout",
     "output_type": "stream",
     "text": [
      "Is there a correlation between :PassengerId and Survived?\n",
      "Survived     0  1\n",
      "PassengerId      \n",
      "1            1  0\n",
      "2            0  1\n",
      "3            0  1\n",
      "4            0  1\n",
      "5            1  0\n",
      "...         .. ..\n",
      "887          1  0\n",
      "888          0  1\n",
      "889          1  0\n",
      "890          0  1\n",
      "891          1  0\n",
      "\n",
      "[891 rows x 2 columns]\n",
      "Chi-squared value: 891.0\n",
      "p-value: 0.484248151973633\n",
      "The variables are Independent (H0 holds true)\n",
      " \n",
      "Is there a correlation between :Survived and Survived?\n",
      "Survived    0    1\n",
      "Survived          \n",
      "0         549    0\n",
      "1           0  342\n",
      "Chi-squared value: 886.7768022383253\n",
      "p-value: 7.352052198553542e-195\n",
      "The variables are Dependent (reject H0)\n",
      " \n",
      "Is there a correlation between :Pclass and Survived?\n",
      "Survived    0    1\n",
      "Pclass            \n",
      "1          80  136\n",
      "2          97   87\n",
      "3         372  119\n",
      "Chi-squared value: 102.88898875696056\n",
      "p-value: 4.549251711298793e-23\n",
      "The variables are Dependent (reject H0)\n",
      " \n",
      "Is there a correlation between :Age and Survived?\n",
      "Survived  0  1\n",
      "Age           \n",
      "0.42      0  1\n",
      "0.67      0  1\n",
      "0.75      0  2\n",
      "0.83      0  2\n",
      "0.92      0  1\n",
      "...      .. ..\n",
      "70.00     2  0\n",
      "70.50     1  0\n",
      "71.00     2  0\n",
      "74.00     1  0\n",
      "80.00     0  1\n",
      "\n",
      "[88 rows x 2 columns]\n",
      "Chi-squared value: 113.77670967050013\n",
      "p-value: 0.028588492552294256\n",
      "The variables are Dependent (reject H0)\n",
      " \n",
      "Is there a correlation between :SibSp and Survived?\n",
      "Survived    0    1\n",
      "SibSp             \n",
      "0         398  210\n",
      "1          97  112\n",
      "2          15   13\n",
      "3          12    4\n",
      "4          15    3\n",
      "5           5    0\n",
      "8           7    0\n",
      "Chi-squared value: 37.2717929152043\n",
      "p-value: 1.5585810465902147e-06\n",
      "The variables are Dependent (reject H0)\n",
      " \n",
      "Is there a correlation between :Parch and Survived?\n",
      "Survived    0    1\n",
      "Parch             \n",
      "0         445  233\n",
      "1          53   65\n",
      "2          40   40\n",
      "3           2    3\n",
      "4           4    0\n",
      "5           4    1\n",
      "6           1    0\n",
      "Chi-squared value: 27.925784060236168\n",
      "p-value: 9.703526421039997e-05\n",
      "The variables are Dependent (reject H0)\n",
      " \n",
      "Is there a correlation between :Fare and Survived?\n",
      "Survived   0  1\n",
      "Fare           \n",
      "0.0000    14  1\n",
      "4.0125     1  0\n",
      "5.0000     1  0\n",
      "6.2375     1  0\n",
      "6.4375     1  0\n",
      "...       .. ..\n",
      "227.5250   1  3\n",
      "247.5208   1  1\n",
      "262.3750   0  2\n",
      "263.0000   2  2\n",
      "512.3292   0  3\n",
      "\n",
      "[248 rows x 2 columns]\n",
      "Chi-squared value: 425.8083805791106\n",
      "p-value: 1.1647635739939964e-11\n",
      "The variables are Dependent (reject H0)\n",
      " \n",
      "Is there a correlation between :Jumlah_tanggungan and Survived?\n",
      "Survived             0    1\n",
      "Jumlah_tanggungan          \n",
      "0                  374  163\n",
      "1                   72   89\n",
      "2                   43   59\n",
      "3                    8   21\n",
      "4                   12    3\n",
      "5                   19    3\n",
      "6                    8    4\n",
      "7                    6    0\n",
      "10                   7    0\n",
      "Chi-squared value: 80.67231343783078\n",
      "p-value: 3.579668975443533e-14\n",
      "The variables are Dependent (reject H0)\n",
      " \n"
     ]
    }
   ],
   "source": [
    "import scipy.stats as stats\n",
    "\n",
    "# Fitur Numerik dengan fitur target\n",
    "for col  in data_eda.select_dtypes(exclude='object').columns.tolist():\n",
    "                    chi_square_test(data_eda , col , 'Survived')\n",
    "                    print(\" \")"
   ]
  },
  {
   "cell_type": "code",
   "execution_count": 52,
   "id": "0366aabe-0ef0-4bbc-ad65-7e2d39ae50bc",
   "metadata": {},
   "outputs": [
    {
     "name": "stdout",
     "output_type": "stream",
     "text": [
      "Is there a correlation between :Name and Survived?\n",
      "Survived                    0  1\n",
      "Name                            \n",
      "Capt. Edward Gifford        1  0\n",
      "Col. John                   1  0\n",
      "Col. Oberst Alfons          0  1\n",
      "Don. Manuel E               1  0\n",
      "Dr. Alfred                  1  0\n",
      "...                        .. ..\n",
      "Rev. Juozas                 1  0\n",
      "Rev. Robert James           1  0\n",
      "Rev. Thomas Roussel Davids  1  0\n",
      "Sir. Cosmo Edmund           0  1\n",
      "the Countess. of            0  1\n",
      "\n",
      "[777 rows x 2 columns]\n",
      "Chi-squared value: 833.2244761493898\n",
      "p-value: 0.0756230314775437\n",
      "The variables are Independent (H0 holds true)\n",
      " \n",
      "Is there a correlation between :Sex and Survived?\n",
      "Survived    0    1\n",
      "Sex               \n",
      "female     81  233\n",
      "male      468  109\n",
      "Chi-squared value: 260.71702016732104\n",
      "p-value: 1.1973570627755645e-58\n",
      "The variables are Dependent (reject H0)\n",
      " \n",
      "Is there a correlation between :Ticket and Survived?\n",
      "Survived  0  1\n",
      "Ticket        \n",
      "10482     0  1\n",
      "110152    0  3\n",
      "110413    1  2\n",
      "110465    2  0\n",
      "110564    0  1\n",
      "...      .. ..\n",
      "8475      1  0\n",
      "851       1  0\n",
      "9234      0  1\n",
      "9549      0  2\n",
      "LINE      3  1\n",
      "\n",
      "[679 rows x 2 columns]\n",
      "Chi-squared value: 764.4555959571059\n",
      "p-value: 0.011520301721613752\n",
      "The variables are Dependent (reject H0)\n",
      " \n",
      "Is there a correlation between :Embarked and Survived?\n",
      "Survived    0    1\n",
      "Embarked          \n",
      "C          75   93\n",
      "Q          47   30\n",
      "S         427  219\n",
      "Chi-squared value: 25.964452881874784\n",
      "p-value: 2.3008626481449577e-06\n",
      "The variables are Dependent (reject H0)\n",
      " \n",
      "Is there a correlation between :Age_group and Survived?\n",
      "Survived     0    1\n",
      "Age_group          \n",
      "anak muda  301  147\n",
      "anak-anak   13    7\n",
      "balita      13   31\n",
      "dewasa     177  127\n",
      "lansia      19    7\n",
      "remaja      26   23\n",
      "Chi-squared value: 29.551036632797597\n",
      "p-value: 1.8074012582033302e-05\n",
      "The variables are Dependent (reject H0)\n",
      " \n",
      "Is there a correlation between :Ticket_class and Survived?\n",
      "Survived        0    1\n",
      "Ticket_class          \n",
      "bisnis         14   39\n",
      "ekonomi       473  228\n",
      "executive      15   37\n",
      "karyawan       14    1\n",
      "premium        33   37\n",
      "Chi-squared value: 74.13343305608774\n",
      "p-value: 3.038610034190162e-15\n",
      "The variables are Dependent (reject H0)\n",
      " \n"
     ]
    }
   ],
   "source": [
    "import scipy.stats as stats\n",
    "\n",
    "# Fitur Numerik dengan fitur target\n",
    "for col  in data_eda.select_dtypes(include='object').columns.tolist():\n",
    "                    chi_square_test(data_eda , col , 'Survived')\n",
    "                    print(\" \")"
   ]
  },
  {
   "cell_type": "code",
   "execution_count": 53,
   "id": "1cd9eaa8-eb6c-4c4d-8379-65337972b0b6",
   "metadata": {},
   "outputs": [
    {
     "data": {
      "text/html": [
       "<div>\n",
       "<style scoped>\n",
       "    .dataframe tbody tr th:only-of-type {\n",
       "        vertical-align: middle;\n",
       "    }\n",
       "\n",
       "    .dataframe tbody tr th {\n",
       "        vertical-align: top;\n",
       "    }\n",
       "\n",
       "    .dataframe thead th {\n",
       "        text-align: right;\n",
       "    }\n",
       "</style>\n",
       "<table border=\"1\" class=\"dataframe\">\n",
       "  <thead>\n",
       "    <tr style=\"text-align: right;\">\n",
       "      <th></th>\n",
       "      <th>PassengerId</th>\n",
       "      <th>Survived</th>\n",
       "      <th>Pclass</th>\n",
       "      <th>Name</th>\n",
       "      <th>Sex</th>\n",
       "      <th>Age</th>\n",
       "      <th>SibSp</th>\n",
       "      <th>Parch</th>\n",
       "      <th>Ticket</th>\n",
       "      <th>Fare</th>\n",
       "      <th>Embarked</th>\n",
       "      <th>Age_group</th>\n",
       "      <th>Jumlah_tanggungan</th>\n",
       "      <th>Ticket_class</th>\n",
       "    </tr>\n",
       "  </thead>\n",
       "  <tbody>\n",
       "    <tr>\n",
       "      <th>0</th>\n",
       "      <td>1</td>\n",
       "      <td>0</td>\n",
       "      <td>3</td>\n",
       "      <td>Mr. Owen Harris</td>\n",
       "      <td>male</td>\n",
       "      <td>22.0</td>\n",
       "      <td>1</td>\n",
       "      <td>0</td>\n",
       "      <td>21171</td>\n",
       "      <td>7.2500</td>\n",
       "      <td>S</td>\n",
       "      <td>anak muda</td>\n",
       "      <td>1</td>\n",
       "      <td>ekonomi</td>\n",
       "    </tr>\n",
       "    <tr>\n",
       "      <th>1</th>\n",
       "      <td>2</td>\n",
       "      <td>1</td>\n",
       "      <td>1</td>\n",
       "      <td>Mrs. John Bradley</td>\n",
       "      <td>female</td>\n",
       "      <td>38.0</td>\n",
       "      <td>1</td>\n",
       "      <td>0</td>\n",
       "      <td>17599</td>\n",
       "      <td>71.2833</td>\n",
       "      <td>C</td>\n",
       "      <td>dewasa</td>\n",
       "      <td>1</td>\n",
       "      <td>executive</td>\n",
       "    </tr>\n",
       "    <tr>\n",
       "      <th>2</th>\n",
       "      <td>3</td>\n",
       "      <td>1</td>\n",
       "      <td>3</td>\n",
       "      <td>Miss. Laina</td>\n",
       "      <td>female</td>\n",
       "      <td>26.0</td>\n",
       "      <td>0</td>\n",
       "      <td>0</td>\n",
       "      <td>3101282</td>\n",
       "      <td>7.9250</td>\n",
       "      <td>S</td>\n",
       "      <td>anak muda</td>\n",
       "      <td>0</td>\n",
       "      <td>ekonomi</td>\n",
       "    </tr>\n",
       "    <tr>\n",
       "      <th>3</th>\n",
       "      <td>4</td>\n",
       "      <td>1</td>\n",
       "      <td>1</td>\n",
       "      <td>Mrs. Jacques Heath</td>\n",
       "      <td>female</td>\n",
       "      <td>35.0</td>\n",
       "      <td>1</td>\n",
       "      <td>0</td>\n",
       "      <td>113803</td>\n",
       "      <td>53.1000</td>\n",
       "      <td>S</td>\n",
       "      <td>dewasa</td>\n",
       "      <td>1</td>\n",
       "      <td>premium</td>\n",
       "    </tr>\n",
       "    <tr>\n",
       "      <th>4</th>\n",
       "      <td>5</td>\n",
       "      <td>0</td>\n",
       "      <td>3</td>\n",
       "      <td>Mr. William Henry</td>\n",
       "      <td>male</td>\n",
       "      <td>35.0</td>\n",
       "      <td>0</td>\n",
       "      <td>0</td>\n",
       "      <td>373450</td>\n",
       "      <td>8.0500</td>\n",
       "      <td>S</td>\n",
       "      <td>dewasa</td>\n",
       "      <td>0</td>\n",
       "      <td>ekonomi</td>\n",
       "    </tr>\n",
       "  </tbody>\n",
       "</table>\n",
       "</div>"
      ],
      "text/plain": [
       "   PassengerId  Survived  Pclass                Name     Sex   Age  SibSp  \\\n",
       "0            1         0       3     Mr. Owen Harris    male  22.0      1   \n",
       "1            2         1       1   Mrs. John Bradley  female  38.0      1   \n",
       "2            3         1       3         Miss. Laina  female  26.0      0   \n",
       "3            4         1       1  Mrs. Jacques Heath  female  35.0      1   \n",
       "4            5         0       3   Mr. William Henry    male  35.0      0   \n",
       "\n",
       "   Parch   Ticket     Fare Embarked  Age_group  Jumlah_tanggungan Ticket_class  \n",
       "0      0    21171   7.2500        S  anak muda                  1      ekonomi  \n",
       "1      0    17599  71.2833        C     dewasa                  1    executive  \n",
       "2      0  3101282   7.9250        S  anak muda                  0      ekonomi  \n",
       "3      0   113803  53.1000        S     dewasa                  1      premium  \n",
       "4      0   373450   8.0500        S     dewasa                  0      ekonomi  "
      ]
     },
     "execution_count": 53,
     "metadata": {},
     "output_type": "execute_result"
    }
   ],
   "source": [
    "data_clean.head()"
   ]
  },
  {
   "cell_type": "markdown",
   "id": "9fbe09d1-f131-4fb2-8a65-e93b8631b511",
   "metadata": {},
   "source": [
    "# **Modeling**"
   ]
  },
  {
   "cell_type": "code",
   "execution_count": 54,
   "id": "dbd11b1d-cbc7-42b4-ac05-f7f1e599bfe1",
   "metadata": {},
   "outputs": [
    {
     "data": {
      "text/html": [
       "<div>\n",
       "<style scoped>\n",
       "    .dataframe tbody tr th:only-of-type {\n",
       "        vertical-align: middle;\n",
       "    }\n",
       "\n",
       "    .dataframe tbody tr th {\n",
       "        vertical-align: top;\n",
       "    }\n",
       "\n",
       "    .dataframe thead th {\n",
       "        text-align: right;\n",
       "    }\n",
       "</style>\n",
       "<table border=\"1\" class=\"dataframe\">\n",
       "  <thead>\n",
       "    <tr style=\"text-align: right;\">\n",
       "      <th></th>\n",
       "      <th>PassengerId</th>\n",
       "      <th>Survived</th>\n",
       "      <th>Pclass</th>\n",
       "      <th>Name</th>\n",
       "      <th>Sex</th>\n",
       "      <th>Age</th>\n",
       "      <th>SibSp</th>\n",
       "      <th>Parch</th>\n",
       "      <th>Ticket</th>\n",
       "      <th>Fare</th>\n",
       "      <th>Embarked</th>\n",
       "      <th>Age_group</th>\n",
       "      <th>Jumlah_tanggungan</th>\n",
       "      <th>Ticket_class</th>\n",
       "    </tr>\n",
       "  </thead>\n",
       "  <tbody>\n",
       "    <tr>\n",
       "      <th>0</th>\n",
       "      <td>1</td>\n",
       "      <td>0</td>\n",
       "      <td>0.827377</td>\n",
       "      <td>Mr. Owen Harris</td>\n",
       "      <td>0.737695</td>\n",
       "      <td>-0.565736</td>\n",
       "      <td>0.432793</td>\n",
       "      <td>-0.473674</td>\n",
       "      <td>-0.842248</td>\n",
       "      <td>-0.502445</td>\n",
       "      <td>0.585954</td>\n",
       "      <td>-0.922899</td>\n",
       "      <td>0.059160</td>\n",
       "      <td>0.415785</td>\n",
       "    </tr>\n",
       "    <tr>\n",
       "      <th>1</th>\n",
       "      <td>2</td>\n",
       "      <td>1</td>\n",
       "      <td>-1.566107</td>\n",
       "      <td>Mrs. John Bradley</td>\n",
       "      <td>-1.355574</td>\n",
       "      <td>0.663861</td>\n",
       "      <td>0.432793</td>\n",
       "      <td>-0.473674</td>\n",
       "      <td>-1.018588</td>\n",
       "      <td>0.786845</td>\n",
       "      <td>-1.942303</td>\n",
       "      <td>0.879080</td>\n",
       "      <td>0.059160</td>\n",
       "      <td>-1.914182</td>\n",
       "    </tr>\n",
       "    <tr>\n",
       "      <th>2</th>\n",
       "      <td>3</td>\n",
       "      <td>1</td>\n",
       "      <td>0.827377</td>\n",
       "      <td>Miss. Laina</td>\n",
       "      <td>-1.355574</td>\n",
       "      <td>-0.258337</td>\n",
       "      <td>-0.474545</td>\n",
       "      <td>-0.473674</td>\n",
       "      <td>0.094874</td>\n",
       "      <td>-0.488854</td>\n",
       "      <td>0.585954</td>\n",
       "      <td>-0.922899</td>\n",
       "      <td>-0.560975</td>\n",
       "      <td>0.415785</td>\n",
       "    </tr>\n",
       "    <tr>\n",
       "      <th>3</th>\n",
       "      <td>4</td>\n",
       "      <td>1</td>\n",
       "      <td>-1.566107</td>\n",
       "      <td>Mrs. Jacques Heath</td>\n",
       "      <td>-1.355574</td>\n",
       "      <td>0.433312</td>\n",
       "      <td>0.432793</td>\n",
       "      <td>-0.473674</td>\n",
       "      <td>-1.396459</td>\n",
       "      <td>0.420730</td>\n",
       "      <td>0.585954</td>\n",
       "      <td>0.879080</td>\n",
       "      <td>0.059160</td>\n",
       "      <td>-0.749198</td>\n",
       "    </tr>\n",
       "    <tr>\n",
       "      <th>4</th>\n",
       "      <td>5</td>\n",
       "      <td>0</td>\n",
       "      <td>0.827377</td>\n",
       "      <td>Mr. William Henry</td>\n",
       "      <td>0.737695</td>\n",
       "      <td>0.433312</td>\n",
       "      <td>-0.474545</td>\n",
       "      <td>-0.473674</td>\n",
       "      <td>1.399790</td>\n",
       "      <td>-0.486337</td>\n",
       "      <td>0.585954</td>\n",
       "      <td>0.879080</td>\n",
       "      <td>-0.560975</td>\n",
       "      <td>0.415785</td>\n",
       "    </tr>\n",
       "  </tbody>\n",
       "</table>\n",
       "</div>"
      ],
      "text/plain": [
       "   PassengerId  Survived    Pclass                Name       Sex       Age  \\\n",
       "0            1         0  0.827377     Mr. Owen Harris  0.737695 -0.565736   \n",
       "1            2         1 -1.566107   Mrs. John Bradley -1.355574  0.663861   \n",
       "2            3         1  0.827377         Miss. Laina -1.355574 -0.258337   \n",
       "3            4         1 -1.566107  Mrs. Jacques Heath -1.355574  0.433312   \n",
       "4            5         0  0.827377   Mr. William Henry  0.737695  0.433312   \n",
       "\n",
       "      SibSp     Parch    Ticket      Fare  Embarked  Age_group  \\\n",
       "0  0.432793 -0.473674 -0.842248 -0.502445  0.585954  -0.922899   \n",
       "1  0.432793 -0.473674 -1.018588  0.786845 -1.942303   0.879080   \n",
       "2 -0.474545 -0.473674  0.094874 -0.488854  0.585954  -0.922899   \n",
       "3  0.432793 -0.473674 -1.396459  0.420730  0.585954   0.879080   \n",
       "4 -0.474545 -0.473674  1.399790 -0.486337  0.585954   0.879080   \n",
       "\n",
       "   Jumlah_tanggungan  Ticket_class  \n",
       "0           0.059160      0.415785  \n",
       "1           0.059160     -1.914182  \n",
       "2          -0.560975      0.415785  \n",
       "3           0.059160     -0.749198  \n",
       "4          -0.560975      0.415785  "
      ]
     },
     "execution_count": 54,
     "metadata": {},
     "output_type": "execute_result"
    }
   ],
   "source": [
    "data_scaling.head()"
   ]
  },
  {
   "cell_type": "code",
   "execution_count": 55,
   "id": "6a7522d1-6a3f-4c68-a5e8-94d4444e977e",
   "metadata": {},
   "outputs": [],
   "source": [
    "# train test split\n",
    "from sklearn.model_selection import train_test_split\n",
    "\n",
    "X = data_scaling.drop(columns=['PassengerId','Survived','Name'], axis=1)\n",
    "y = data_scaling['Survived']\n",
    "\n",
    "X_train, X_test, y_train, y_test = train_test_split(X, y, test_size = 0.2, random_state = 42)"
   ]
  },
  {
   "cell_type": "code",
   "execution_count": 56,
   "id": "5890a043-1755-4c13-8493-61994f6b2802",
   "metadata": {},
   "outputs": [
    {
     "name": "stdout",
     "output_type": "stream",
     "text": [
      "Distribusi Kelas Setelah Oversampling:\n",
      "0    444\n",
      "1    444\n",
      "Name: Survived, dtype: int64\n"
     ]
    }
   ],
   "source": [
    "# SMOTE\n",
    "\n",
    "X = data_scaling.drop(columns=['PassengerId','Survived','Name'], axis=1)\n",
    "y = data_scaling['Survived']\n",
    "\n",
    "from imblearn.over_sampling import SMOTE\n",
    "\n",
    "smote = SMOTE(random_state = 42)\n",
    "X_resampled, y_resampled = smote.fit_resample(X_train,y_train)\n",
    "\n",
    "value_counts_resampled = y_resampled.value_counts()\n",
    "\n",
    "# Menampilkan distribusi kelas setelah oversampling\n",
    "print(\"Distribusi Kelas Setelah Oversampling:\")\n",
    "print(value_counts_resampled)"
   ]
  },
  {
   "cell_type": "markdown",
   "id": "3f585b3b-bc77-4c84-87ed-6de9449ada03",
   "metadata": {},
   "source": [
    "## Logistic Regression"
   ]
  },
  {
   "cell_type": "markdown",
   "id": "7ea4ca45-7ae4-4a7c-96a4-b3c5a7187167",
   "metadata": {},
   "source": [
    "### Before SMOTE"
   ]
  },
  {
   "cell_type": "code",
   "execution_count": 57,
   "id": "51ff5691-ee20-4045-a09c-986a456a9eb5",
   "metadata": {},
   "outputs": [],
   "source": [
    "# membangun model\n",
    "from sklearn.linear_model import LogisticRegression\n",
    "from sklearn.metrics import accuracy_score\n",
    "\n",
    "lr = LogisticRegression(max_iter=1000)\n",
    "lr.fit(X_train,y_train)\n",
    "\n",
    "# prediksi \n",
    "y_pred = lr.predict(X_test)\n",
    "y_pred_proba = lr.predict_proba(X_test)\n",
    "y_pred_proba_train = lr.predict_proba(X_train)"
   ]
  },
  {
   "cell_type": "code",
   "execution_count": 58,
   "id": "49592a38-92b2-470d-90b9-13e682377657",
   "metadata": {},
   "outputs": [],
   "source": [
    "from sklearn.metrics import accuracy_score, precision_score, recall_score, confusion_matrix, f1_score, roc_auc_score\n",
    "\n",
    "# Evaluasi model\n",
    "conf_matrix = confusion_matrix(y_test, y_pred)\n",
    "accuracy = accuracy_score(y_test, y_pred)\n",
    "precision = precision_score(y_test, y_pred)\n",
    "recall = recall_score(y_test, y_pred)\n",
    "f1_score = f1_score(y_test, y_pred)\n",
    "roc_auc_value = roc_auc_score(y_test, (y_pred_proba[:,1]))\n",
    "roc_auc_value_train = roc_auc_score(y_train, (y_pred_proba_train[:,1]))"
   ]
  },
  {
   "cell_type": "code",
   "execution_count": 59,
   "id": "aabf46d3-701e-4d6a-a0dd-db8c5908ba5f",
   "metadata": {},
   "outputs": [
    {
     "name": "stdout",
     "output_type": "stream",
     "text": [
      "Confusion Matrix:\n",
      "[[91 14]\n",
      " [18 56]]\n",
      "Accuracy (Test Set): 0.82\n",
      "Precision (Test Set): 0.80\n",
      "Recall (Test Set): 0.76\n",
      "F1 Score (Test Set): 0.78\n",
      "ROC AUC Score (Test Set): 0.89\n",
      "ROC AUC Score (Train Set): 0.85\n"
     ]
    }
   ],
   "source": [
    "# Tampilkan hasil evaluasi\n",
    "print(f'Confusion Matrix:\\n{conf_matrix}')\n",
    "print('Accuracy (Test Set): %.2f' % accuracy)\n",
    "print('Precision (Test Set): %.2f' % precision)\n",
    "print('Recall (Test Set): %.2f' % recall)\n",
    "print('F1 Score (Test Set): %.2f' % f1_score)\n",
    "print('ROC AUC Score (Test Set): %.2f' % roc_auc_value)\n",
    "print('ROC AUC Score (Train Set): %.2f' % roc_auc_value_train)"
   ]
  },
  {
   "cell_type": "markdown",
   "id": "c1ca710a-2b2a-4b86-9154-b97a9925fb86",
   "metadata": {},
   "source": [
    "### After SMOTE"
   ]
  },
  {
   "cell_type": "code",
   "execution_count": 60,
   "id": "1edc2627-b983-4d2e-96c3-10f164168ca8",
   "metadata": {},
   "outputs": [],
   "source": [
    "# membangun model\n",
    "from sklearn.linear_model import LogisticRegression\n",
    "from sklearn.metrics import accuracy_score\n",
    "\n",
    "lr = LogisticRegression(max_iter=1000)\n",
    "lr.fit(X_resampled,y_resampled)\n",
    "\n",
    "# prediksi\n",
    "y_pred = lr.predict(X_test)\n",
    "y_pred_proba = lr.predict_proba(X_test)\n",
    "y_pred_proba_train_resampled = lr.predict_proba(X_resampled)"
   ]
  },
  {
   "cell_type": "code",
   "execution_count": 61,
   "id": "3a4d53e4-7b07-46a8-adb6-d62fe666fe72",
   "metadata": {},
   "outputs": [],
   "source": [
    "from sklearn.metrics import accuracy_score, precision_score, recall_score, confusion_matrix, f1_score, roc_auc_score\n",
    "\n",
    "# Evaluasi model\n",
    "conf_matrix = confusion_matrix(y_test, y_pred)\n",
    "accuracy = accuracy_score(y_test, y_pred)\n",
    "precision = precision_score(y_test, y_pred)\n",
    "recall = recall_score(y_test, y_pred)\n",
    "f1_score = f1_score(y_test, y_pred)\n",
    "roc_auc_value = roc_auc_score(y_test, (y_pred_proba[:,1]))\n",
    "roc_auc_value_train = roc_auc_score(y_resampled, (y_pred_proba_train_resampled[:,1]))"
   ]
  },
  {
   "cell_type": "code",
   "execution_count": 62,
   "id": "6dfcddff-fadf-4114-9eef-78413a9923d7",
   "metadata": {},
   "outputs": [
    {
     "name": "stdout",
     "output_type": "stream",
     "text": [
      "Confusion Matrix:\n",
      "[[85 20]\n",
      " [12 62]]\n",
      "Accuracy (Test Set): 0.82\n",
      "Precision (Test Set): 0.76\n",
      "Recall (Test Set): 0.84\n",
      "F1 Score (Test Set): 0.79\n",
      "ROC AUC Score (Test Set): 0.88\n",
      "ROC AUC Score (Train Set): 0.85\n"
     ]
    }
   ],
   "source": [
    "# Tampilkan hasil evaluasi\n",
    "print(f'Confusion Matrix:\\n{conf_matrix}')\n",
    "print('Accuracy (Test Set): %.2f' % accuracy)\n",
    "print('Precision (Test Set): %.2f' % precision)\n",
    "print('Recall (Test Set): %.2f' % recall)\n",
    "print('F1 Score (Test Set): %.2f' % f1_score)\n",
    "print('ROC AUC Score (Test Set): %.2f' % roc_auc_value)\n",
    "print('ROC AUC Score (Train Set): %.2f' % roc_auc_value_train)"
   ]
  },
  {
   "cell_type": "markdown",
   "id": "0df728f2-abcb-41e2-ae64-bce638bd889a",
   "metadata": {},
   "source": [
    "## Random Forest"
   ]
  },
  {
   "cell_type": "markdown",
   "id": "88bc342a-419e-4b35-82c6-5caba8d7a7d2",
   "metadata": {},
   "source": [
    "### Before SMOTE"
   ]
  },
  {
   "cell_type": "code",
   "execution_count": 63,
   "id": "948ec794-82a8-404b-ab2b-a3d01b6fdffb",
   "metadata": {},
   "outputs": [],
   "source": [
    "# membangun model \n",
    "from sklearn.ensemble import RandomForestClassifier\n",
    "\n",
    "rf = RandomForestClassifier(max_depth=4)\n",
    "rf.fit(X_train,y_train)\n",
    "\n",
    "# prediksi\n",
    "y_pred = rf.predict(X_test)\n",
    "y_pred_proba = rf.predict_proba(X_test)\n",
    "y_pred_train = rf.predict(X_train)"
   ]
  },
  {
   "cell_type": "code",
   "execution_count": 64,
   "id": "5abc27a3-f024-4de7-ab1a-60e31feb4391",
   "metadata": {},
   "outputs": [],
   "source": [
    "from sklearn.metrics import accuracy_score, precision_score, recall_score, confusion_matrix, f1_score, roc_auc_score\n",
    "\n",
    "# Evaluasi model\n",
    "conf_matrix = confusion_matrix(y_test, y_pred)\n",
    "accuracy = accuracy_score(y_test, y_pred)\n",
    "precision = precision_score(y_test, y_pred)\n",
    "recall = recall_score(y_test, y_pred)\n",
    "f1_score = f1_score(y_test, y_pred)\n",
    "roc_auc_value = roc_auc_score(y_test, (y_pred_proba[:,1]))\n",
    "roc_auc_value_train = roc_auc_score(y_train, (y_pred_proba_train[:,1]))"
   ]
  },
  {
   "cell_type": "code",
   "execution_count": 65,
   "id": "535f2816-1be9-4285-95a7-1eadd00993ec",
   "metadata": {},
   "outputs": [
    {
     "name": "stdout",
     "output_type": "stream",
     "text": [
      "Confusion Matrix:\n",
      "[[97  8]\n",
      " [26 48]]\n",
      "Accuracy (Test Set): 0.81\n",
      "Precision (Test Set): 0.86\n",
      "Recall (Test Set): 0.65\n",
      "F1 Score (Test Set): 0.74\n",
      "ROC AUC Score (Test Set): 0.89\n",
      "ROC AUC Score (Train Set): 0.85\n"
     ]
    }
   ],
   "source": [
    "# Tampilkan hasil evaluasi\n",
    "print(f'Confusion Matrix:\\n{conf_matrix}')\n",
    "print('Accuracy (Test Set): %.2f' % accuracy)\n",
    "print('Precision (Test Set): %.2f' % precision)\n",
    "print('Recall (Test Set): %.2f' % recall)\n",
    "print('F1 Score (Test Set): %.2f' % f1_score)\n",
    "print('ROC AUC Score (Test Set): %.2f' % roc_auc_value)\n",
    "print('ROC AUC Score (Train Set): %.2f' % roc_auc_value_train)"
   ]
  },
  {
   "cell_type": "markdown",
   "id": "59a94560-41d2-40cb-aa1e-7948af519436",
   "metadata": {},
   "source": [
    "### After SMOTE"
   ]
  },
  {
   "cell_type": "code",
   "execution_count": 66,
   "id": "42a27f8b-4ff1-49d7-bebd-7a62a578bd5e",
   "metadata": {},
   "outputs": [],
   "source": [
    "# membangun model \n",
    "from sklearn.ensemble import RandomForestClassifier\n",
    "\n",
    "rf = RandomForestClassifier(max_depth=4)\n",
    "rf.fit(X_resampled,y_resampled)\n",
    "\n",
    "# prediksi\n",
    "y_pred = rf.predict(X_test)\n",
    "y_pred_proba = rf.predict_proba(X_test)\n",
    "y_pred_train_resampled = rf.predict(X_resampled)"
   ]
  },
  {
   "cell_type": "code",
   "execution_count": 67,
   "id": "c6962d35-50b6-4fb6-9765-3862690e4172",
   "metadata": {},
   "outputs": [],
   "source": [
    "from sklearn.metrics import accuracy_score, precision_score, recall_score, confusion_matrix, f1_score, roc_auc_score\n",
    "\n",
    "# Evaluasi model\n",
    "conf_matrix = confusion_matrix(y_test, y_pred)\n",
    "accuracy = accuracy_score(y_test, y_pred)\n",
    "precision = precision_score(y_test, y_pred)\n",
    "recall = recall_score(y_test, y_pred)\n",
    "f1_score = f1_score(y_test, y_pred)\n",
    "roc_auc_value = roc_auc_score(y_test, (y_pred_proba[:,1]))\n",
    "roc_auc_value_train = roc_auc_score(y_resampled, (y_pred_proba_train_resampled[:,1]))"
   ]
  },
  {
   "cell_type": "code",
   "execution_count": 68,
   "id": "5dba0877-a22c-43ac-b2c6-624e1a03148b",
   "metadata": {},
   "outputs": [
    {
     "name": "stdout",
     "output_type": "stream",
     "text": [
      "Confusion Matrix:\n",
      "[[90 15]\n",
      " [19 55]]\n",
      "Accuracy (Test Set): 0.81\n",
      "Precision (Test Set): 0.79\n",
      "Recall (Test Set): 0.74\n",
      "F1 Score (Test Set): 0.76\n",
      "ROC AUC Score (Test Set): 0.88\n",
      "ROC AUC Score (Train Set): 0.85\n"
     ]
    }
   ],
   "source": [
    "# Tampilkan hasil evaluasi\n",
    "print(f'Confusion Matrix:\\n{conf_matrix}')\n",
    "print('Accuracy (Test Set): %.2f' % accuracy)\n",
    "print('Precision (Test Set): %.2f' % precision)\n",
    "print('Recall (Test Set): %.2f' % recall)\n",
    "print('F1 Score (Test Set): %.2f' % f1_score)\n",
    "print('ROC AUC Score (Test Set): %.2f' % roc_auc_value)\n",
    "print('ROC AUC Score (Train Set): %.2f' % roc_auc_value_train)"
   ]
  },
  {
   "cell_type": "markdown",
   "id": "d9542efb-b542-4503-a6ea-de7f13f25ced",
   "metadata": {},
   "source": [
    "## Result Model"
   ]
  },
  {
   "cell_type": "markdown",
   "id": "1e0a252b-dfa5-4de4-8552-97a3737494d9",
   "metadata": {},
   "source": [
    "1. Logistic Regression Before SMOTE: Precision 0.80, ROC AUC Score (Test Set): 0.89, ROC AUC Score (Train Set): 0.85\n",
    "2. Logistic Regression After SMOTE: Precision 0.76, ROC AUC Score (Test Set): 0.88, ROC AUC Score (Train Set): 0.85\n",
    "3. **Random Forest Classifier Before SMOTE: Precision 0.86, ROC AUC Score (Test Set): 0.89, ROC AUC Score (Train Set): 0.85**\n",
    "4. Random Forest Classifier After SMOTE: Precision 0.79, ROC AUC Score (Test Set): 0.88, ROC AUC Score (Train Set): 0.85\n",
    "\n",
    "Model yang fit adalah Random Forest Clasifier tanpa dilakukan SMOTE sebelumnya."
   ]
  },
  {
   "cell_type": "markdown",
   "id": "601b414b-d9e2-411f-999b-58bce782bfbd",
   "metadata": {},
   "source": [
    "## Feature Importence"
   ]
  },
  {
   "cell_type": "code",
   "execution_count": 82,
   "id": "d38cc42c-91fb-4070-b321-a48874671b17",
   "metadata": {},
   "outputs": [],
   "source": [
    "def show_feature_importance(model):\n",
    "    feat_importance = pd.Series(model.feature_importances_, index=X.columns)\n",
    "    ax = feat_importance.nlargest(25).plot(kind='barh', figsize=(10, 7))\n",
    "    ax.invert_yaxis()\n",
    "\n",
    "    plt.xlabel('score')\n",
    "    plt.ylabel('feature')\n",
    "    plt.title('feature importance score')"
   ]
  },
  {
   "cell_type": "code",
   "execution_count": 83,
   "id": "7fcf7c88-50c9-40f0-90d7-83061b1964ca",
   "metadata": {},
   "outputs": [
    {
     "data": {
      "image/png": "[encoded data removed]",
      "text/plain": [
       "<Figure size 720x504 with 1 Axes>"
      ]
     },
     "metadata": {
      "needs_background": "light"
     },
     "output_type": "display_data"
    }
   ],
   "source": [
    "show_feature_importance(rf)"
   ]
  },
  {
   "cell_type": "markdown",
   "id": "36be44a4-efe3-4cb1-bef8-fd2c098af084",
   "metadata": {},
   "source": [
    "# **Deployment**"
   ]
  },
  {
   "cell_type": "code",
   "execution_count": null,
   "id": "52bdda27-812c-4a1e-ba68-174dff9256be",
   "metadata": {},
   "outputs": [],
   "source": []
  },
  {
   "cell_type": "code",
   "execution_count": null,
   "id": "a40ffc97-5e36-49ba-9bbe-8b27e182a0f1",
   "metadata": {},
   "outputs": [],
   "source": []
  },
  {
   "cell_type": "markdown",
   "id": "7ce75640-d56b-48ac-9246-b25d84df3a9d",
   "metadata": {},
   "source": [
    "# **Result and Recommendation**"
   ]
  },
  {
   "cell_type": "code",
   "execution_count": null,
   "id": "c53197af-a48e-4b27-8eb5-36a01998b5db",
   "metadata": {},
   "outputs": [],
   "source": []
  },
  {
   "cell_type": "code",
   "execution_count": null,
   "id": "3e35608e-eb91-4b78-9d45-4b8071a2ada3",
   "metadata": {},
   "outputs": [],
   "source": []
  }
 ],
 "metadata": {
  "kernelspec": {
   "display_name": "Python 3 (ipykernel)",
   "language": "python",
   "name": "python3"
  },
  "language_info": {
   "codemirror_mode": {
    "name": "ipython",
    "version": 3
   },
   "file_extension": ".py",
   "mimetype": "text/x-python",
   "name": "python",
   "nbconvert_exporter": "python",
   "pygments_lexer": "ipython3",
   "version": "3.9.12"
  },
  "toc-autonumbering": false
 },
 "nbformat": 4,
 "nbformat_minor": 5
}
